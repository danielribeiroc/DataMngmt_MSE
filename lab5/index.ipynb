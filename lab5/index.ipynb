{
 "cells": [
  {
   "cell_type": "markdown",
   "id": "712d787b",
   "metadata": {
    "pycharm": {
     "name": "#%% md\n"
    }
   },
   "source": [
    "### Imports"
   ]
  },
  {
   "cell_type": "code",
   "execution_count": 152,
   "id": "484a38ec",
   "metadata": {
    "pycharm": {
     "name": "#%%\n"
    },
    "ExecuteTime": {
     "end_time": "2023-12-14T10:22:23.267550100Z",
     "start_time": "2023-12-14T10:22:23.033010200Z"
    }
   },
   "outputs": [],
   "source": [
    "import pandas as pd\n",
    "import sqlite3\n",
    "import matplotlib.pyplot as plt\n",
    "import math\n",
    "import numpy as np"
   ]
  },
  {
   "cell_type": "markdown",
   "id": "2b2679a4",
   "metadata": {
    "pycharm": {
     "name": "#%% md\n"
    }
   },
   "source": [
    "### Constants"
   ]
  },
  {
   "cell_type": "code",
   "execution_count": 153,
   "id": "f72014b1",
   "metadata": {
    "pycharm": {
     "name": "#%%\n"
    },
    "ExecuteTime": {
     "end_time": "2023-12-14T10:22:23.291574Z",
     "start_time": "2023-12-14T10:22:23.043015600Z"
    }
   },
   "outputs": [],
   "source": [
    "# DataFrame columns\n",
    "column_names = ['Order ID', 'Product', 'Quantity Ordered', 'Price Each', 'Order Date', 'Street Address', 'City', 'State']\n",
    "\n",
    "# Files\n",
    "data_folder = \"data/\"\n",
    "shop1_file = data_folder + 'Shop1.csv'\n",
    "shop2_file = data_folder + 'Shop2.xlsx'\n",
    "shop3_file = data_folder + 'Shop3.json'\n",
    "shop4_file = data_folder + 'Shop4.xml'\n",
    "shop5_file = data_folder + 'Shop5.parquet'\n",
    "shop6_file = data_folder + 'Shop6.db'"
   ]
  },
  {
   "cell_type": "markdown",
   "id": "fe08e130",
   "metadata": {
    "pycharm": {
     "name": "#%% md\n"
    }
   },
   "source": [
    "### Pre processing"
   ]
  },
  {
   "cell_type": "markdown",
   "id": "6bc0862f",
   "metadata": {
    "pycharm": {
     "name": "#%% md\n"
    }
   },
   "source": [
    "#### 2.1.1 Shop 1 (CSV)"
   ]
  },
  {
   "cell_type": "code",
   "execution_count": 154,
   "id": "8caa2652",
   "metadata": {
    "pycharm": {
     "name": "#%%\n"
    },
    "ExecuteTime": {
     "end_time": "2023-12-14T10:22:23.564645100Z",
     "start_time": "2023-12-14T10:22:23.070297400Z"
    }
   },
   "outputs": [],
   "source": [
    "df_shop1 = pd.read_csv(shop1_file)\n",
    "#display(df_shop1)"
   ]
  },
  {
   "cell_type": "code",
   "execution_count": 155,
   "outputs": [
    {
     "name": "stdout",
     "output_type": "stream",
     "text": [
      "Index(['Order ID', 'Product', 'Quantity Ordered', 'Price Each', 'Order Date',\n",
      "       'Street Address', 'City', 'State'],\n",
      "      dtype='object')\n",
      "8\n"
     ]
    },
    {
     "data": {
      "text/plain": "(None, None)"
     },
     "execution_count": 155,
     "metadata": {},
     "output_type": "execute_result"
    }
   ],
   "source": [
    "columns_base = df_shop1.columns\n",
    "print(columns_base), print(len(columns_base))"
   ],
   "metadata": {
    "collapsed": false,
    "ExecuteTime": {
     "end_time": "2023-12-14T10:22:23.564645100Z",
     "start_time": "2023-12-14T10:22:23.121283Z"
    }
   },
   "id": "7cf3821569e74847"
  },
  {
   "cell_type": "markdown",
   "id": "4c8cca3e",
   "metadata": {
    "pycharm": {
     "name": "#%% md\n"
    }
   },
   "source": [
    "#### 2.1.2 Shop 2 (Excel)"
   ]
  },
  {
   "cell_type": "code",
   "execution_count": 156,
   "id": "7de5dbaa",
   "metadata": {
    "pycharm": {
     "name": "#%%\n"
    },
    "ExecuteTime": {
     "end_time": "2023-12-14T10:22:28.219120Z",
     "start_time": "2023-12-14T10:22:23.129026100Z"
    }
   },
   "outputs": [
    {
     "data": {
      "text/plain": "       Order ID                   Product  Quantity Ordered  Price Each  \\\n0           NaN                       NaN               NaN         NaN   \n1      182422.0  Lightning Charging Cable               1.0        15.0   \n2      182424.0     AA Batteries (4-pack)               4.0         4.0   \n3      182426.0      USB-C Charging Cable               2.0        11.0   \n4      182429.0              Google Phone               1.0       650.0   \n...         ...                       ...               ...         ...   \n34825  336446.0     AA Batteries (4-pack)               2.0         4.0   \n34826  336447.0          Wired Headphones               1.0        12.0   \n34827  336448.0     AA Batteries (4-pack)               4.0         4.0   \n34828  336450.0              Google Phone               1.0       650.0   \n34829  336457.0  Lightning Charging Cable               2.0        15.0   \n\n               Order Date   Street Address           City State  \n0                     NaT              NaN            NaN   NaN  \n1     2022-01-18 20:01:00    307 Willow St        Seattle    WA  \n2     2022-01-07 17:32:00      951 Pine St        Atlanta    GA  \n3     2022-01-04 12:51:00      336 Main St       Portland    OR  \n4     2022-01-31 22:22:00     762 North St         Boston    MA  \n...                   ...              ...            ...   ...  \n34825 2022-12-10 21:46:00      520 Main St       Portland    OR  \n34826 2022-12-27 11:07:00      341 Lake St       Portland    OR  \n34827 2022-12-10 21:09:00     739 South St  San Francisco    CA  \n34828 2022-12-08 09:46:00    704 Walnut St  New York City    NY  \n34829 2022-12-31 15:35:00  925 Chestnut St  San Francisco    CA  \n\n[34830 rows x 8 columns]",
      "text/html": "<div>\n<style scoped>\n    .dataframe tbody tr th:only-of-type {\n        vertical-align: middle;\n    }\n\n    .dataframe tbody tr th {\n        vertical-align: top;\n    }\n\n    .dataframe thead th {\n        text-align: right;\n    }\n</style>\n<table border=\"1\" class=\"dataframe\">\n  <thead>\n    <tr style=\"text-align: right;\">\n      <th></th>\n      <th>Order ID</th>\n      <th>Product</th>\n      <th>Quantity Ordered</th>\n      <th>Price Each</th>\n      <th>Order Date</th>\n      <th>Street Address</th>\n      <th>City</th>\n      <th>State</th>\n    </tr>\n  </thead>\n  <tbody>\n    <tr>\n      <th>0</th>\n      <td>NaN</td>\n      <td>NaN</td>\n      <td>NaN</td>\n      <td>NaN</td>\n      <td>NaT</td>\n      <td>NaN</td>\n      <td>NaN</td>\n      <td>NaN</td>\n    </tr>\n    <tr>\n      <th>1</th>\n      <td>182422.0</td>\n      <td>Lightning Charging Cable</td>\n      <td>1.0</td>\n      <td>15.0</td>\n      <td>2022-01-18 20:01:00</td>\n      <td>307 Willow St</td>\n      <td>Seattle</td>\n      <td>WA</td>\n    </tr>\n    <tr>\n      <th>2</th>\n      <td>182424.0</td>\n      <td>AA Batteries (4-pack)</td>\n      <td>4.0</td>\n      <td>4.0</td>\n      <td>2022-01-07 17:32:00</td>\n      <td>951 Pine St</td>\n      <td>Atlanta</td>\n      <td>GA</td>\n    </tr>\n    <tr>\n      <th>3</th>\n      <td>182426.0</td>\n      <td>USB-C Charging Cable</td>\n      <td>2.0</td>\n      <td>11.0</td>\n      <td>2022-01-04 12:51:00</td>\n      <td>336 Main St</td>\n      <td>Portland</td>\n      <td>OR</td>\n    </tr>\n    <tr>\n      <th>4</th>\n      <td>182429.0</td>\n      <td>Google Phone</td>\n      <td>1.0</td>\n      <td>650.0</td>\n      <td>2022-01-31 22:22:00</td>\n      <td>762 North St</td>\n      <td>Boston</td>\n      <td>MA</td>\n    </tr>\n    <tr>\n      <th>...</th>\n      <td>...</td>\n      <td>...</td>\n      <td>...</td>\n      <td>...</td>\n      <td>...</td>\n      <td>...</td>\n      <td>...</td>\n      <td>...</td>\n    </tr>\n    <tr>\n      <th>34825</th>\n      <td>336446.0</td>\n      <td>AA Batteries (4-pack)</td>\n      <td>2.0</td>\n      <td>4.0</td>\n      <td>2022-12-10 21:46:00</td>\n      <td>520 Main St</td>\n      <td>Portland</td>\n      <td>OR</td>\n    </tr>\n    <tr>\n      <th>34826</th>\n      <td>336447.0</td>\n      <td>Wired Headphones</td>\n      <td>1.0</td>\n      <td>12.0</td>\n      <td>2022-12-27 11:07:00</td>\n      <td>341 Lake St</td>\n      <td>Portland</td>\n      <td>OR</td>\n    </tr>\n    <tr>\n      <th>34827</th>\n      <td>336448.0</td>\n      <td>AA Batteries (4-pack)</td>\n      <td>4.0</td>\n      <td>4.0</td>\n      <td>2022-12-10 21:09:00</td>\n      <td>739 South St</td>\n      <td>San Francisco</td>\n      <td>CA</td>\n    </tr>\n    <tr>\n      <th>34828</th>\n      <td>336450.0</td>\n      <td>Google Phone</td>\n      <td>1.0</td>\n      <td>650.0</td>\n      <td>2022-12-08 09:46:00</td>\n      <td>704 Walnut St</td>\n      <td>New York City</td>\n      <td>NY</td>\n    </tr>\n    <tr>\n      <th>34829</th>\n      <td>336457.0</td>\n      <td>Lightning Charging Cable</td>\n      <td>2.0</td>\n      <td>15.0</td>\n      <td>2022-12-31 15:35:00</td>\n      <td>925 Chestnut St</td>\n      <td>San Francisco</td>\n      <td>CA</td>\n    </tr>\n  </tbody>\n</table>\n<p>34830 rows × 8 columns</p>\n</div>"
     },
     "execution_count": 156,
     "metadata": {},
     "output_type": "execute_result"
    }
   ],
   "source": [
    "df_shop2 = pd.read_excel(shop2_file)\n",
    "df_shop2"
   ]
  },
  {
   "cell_type": "code",
   "execution_count": 157,
   "outputs": [
    {
     "name": "stdout",
     "output_type": "stream",
     "text": [
      "Index(['Order ID', 'Product', 'Quantity Ordered', 'Price Each', 'Order Date',\n",
      "       'Street Address', 'City', 'State'],\n",
      "      dtype='object')\n",
      "8\n"
     ]
    },
    {
     "data": {
      "text/plain": "(None, None)"
     },
     "execution_count": 157,
     "metadata": {},
     "output_type": "execute_result"
    }
   ],
   "source": [
    "columns2 = df_shop2.columns\n",
    "print(columns2), print(len(columns2))"
   ],
   "metadata": {
    "collapsed": false,
    "ExecuteTime": {
     "end_time": "2023-12-14T10:22:28.226698900Z",
     "start_time": "2023-12-14T10:22:28.219120Z"
    }
   },
   "id": "3156c43f98e221b1"
  },
  {
   "cell_type": "code",
   "execution_count": 158,
   "outputs": [
    {
     "data": {
      "text/plain": "       Order ID                   Product  Quantity Ordered  Price Each  \\\n1      182422.0  Lightning Charging Cable               1.0        15.0   \n2      182424.0     AA Batteries (4-pack)               4.0         4.0   \n3      182426.0      USB-C Charging Cable               2.0        11.0   \n4      182429.0              Google Phone               1.0       650.0   \n5      182433.0    AAA Batteries (4-pack)               4.0         3.0   \n...         ...                       ...               ...         ...   \n34825  336446.0     AA Batteries (4-pack)               2.0         4.0   \n34826  336447.0          Wired Headphones               1.0        12.0   \n34827  336448.0     AA Batteries (4-pack)               4.0         4.0   \n34828  336450.0              Google Phone               1.0       650.0   \n34829  336457.0  Lightning Charging Cable               2.0        15.0   \n\n               Order Date   Street Address           City State  \n1     2022-01-18 20:01:00    307 Willow St        Seattle    WA  \n2     2022-01-07 17:32:00      951 Pine St        Atlanta    GA  \n3     2022-01-04 12:51:00      336 Main St       Portland    OR  \n4     2022-01-31 22:22:00     762 North St         Boston    MA  \n5     2022-01-01 15:16:00   685 Dogwood St  San Francisco    CA  \n...                   ...              ...            ...   ...  \n34825 2022-12-10 21:46:00      520 Main St       Portland    OR  \n34826 2022-12-27 11:07:00      341 Lake St       Portland    OR  \n34827 2022-12-10 21:09:00     739 South St  San Francisco    CA  \n34828 2022-12-08 09:46:00    704 Walnut St  New York City    NY  \n34829 2022-12-31 15:35:00  925 Chestnut St  San Francisco    CA  \n\n[34502 rows x 8 columns]",
      "text/html": "<div>\n<style scoped>\n    .dataframe tbody tr th:only-of-type {\n        vertical-align: middle;\n    }\n\n    .dataframe tbody tr th {\n        vertical-align: top;\n    }\n\n    .dataframe thead th {\n        text-align: right;\n    }\n</style>\n<table border=\"1\" class=\"dataframe\">\n  <thead>\n    <tr style=\"text-align: right;\">\n      <th></th>\n      <th>Order ID</th>\n      <th>Product</th>\n      <th>Quantity Ordered</th>\n      <th>Price Each</th>\n      <th>Order Date</th>\n      <th>Street Address</th>\n      <th>City</th>\n      <th>State</th>\n    </tr>\n  </thead>\n  <tbody>\n    <tr>\n      <th>1</th>\n      <td>182422.0</td>\n      <td>Lightning Charging Cable</td>\n      <td>1.0</td>\n      <td>15.0</td>\n      <td>2022-01-18 20:01:00</td>\n      <td>307 Willow St</td>\n      <td>Seattle</td>\n      <td>WA</td>\n    </tr>\n    <tr>\n      <th>2</th>\n      <td>182424.0</td>\n      <td>AA Batteries (4-pack)</td>\n      <td>4.0</td>\n      <td>4.0</td>\n      <td>2022-01-07 17:32:00</td>\n      <td>951 Pine St</td>\n      <td>Atlanta</td>\n      <td>GA</td>\n    </tr>\n    <tr>\n      <th>3</th>\n      <td>182426.0</td>\n      <td>USB-C Charging Cable</td>\n      <td>2.0</td>\n      <td>11.0</td>\n      <td>2022-01-04 12:51:00</td>\n      <td>336 Main St</td>\n      <td>Portland</td>\n      <td>OR</td>\n    </tr>\n    <tr>\n      <th>4</th>\n      <td>182429.0</td>\n      <td>Google Phone</td>\n      <td>1.0</td>\n      <td>650.0</td>\n      <td>2022-01-31 22:22:00</td>\n      <td>762 North St</td>\n      <td>Boston</td>\n      <td>MA</td>\n    </tr>\n    <tr>\n      <th>5</th>\n      <td>182433.0</td>\n      <td>AAA Batteries (4-pack)</td>\n      <td>4.0</td>\n      <td>3.0</td>\n      <td>2022-01-01 15:16:00</td>\n      <td>685 Dogwood St</td>\n      <td>San Francisco</td>\n      <td>CA</td>\n    </tr>\n    <tr>\n      <th>...</th>\n      <td>...</td>\n      <td>...</td>\n      <td>...</td>\n      <td>...</td>\n      <td>...</td>\n      <td>...</td>\n      <td>...</td>\n      <td>...</td>\n    </tr>\n    <tr>\n      <th>34825</th>\n      <td>336446.0</td>\n      <td>AA Batteries (4-pack)</td>\n      <td>2.0</td>\n      <td>4.0</td>\n      <td>2022-12-10 21:46:00</td>\n      <td>520 Main St</td>\n      <td>Portland</td>\n      <td>OR</td>\n    </tr>\n    <tr>\n      <th>34826</th>\n      <td>336447.0</td>\n      <td>Wired Headphones</td>\n      <td>1.0</td>\n      <td>12.0</td>\n      <td>2022-12-27 11:07:00</td>\n      <td>341 Lake St</td>\n      <td>Portland</td>\n      <td>OR</td>\n    </tr>\n    <tr>\n      <th>34827</th>\n      <td>336448.0</td>\n      <td>AA Batteries (4-pack)</td>\n      <td>4.0</td>\n      <td>4.0</td>\n      <td>2022-12-10 21:09:00</td>\n      <td>739 South St</td>\n      <td>San Francisco</td>\n      <td>CA</td>\n    </tr>\n    <tr>\n      <th>34828</th>\n      <td>336450.0</td>\n      <td>Google Phone</td>\n      <td>1.0</td>\n      <td>650.0</td>\n      <td>2022-12-08 09:46:00</td>\n      <td>704 Walnut St</td>\n      <td>New York City</td>\n      <td>NY</td>\n    </tr>\n    <tr>\n      <th>34829</th>\n      <td>336457.0</td>\n      <td>Lightning Charging Cable</td>\n      <td>2.0</td>\n      <td>15.0</td>\n      <td>2022-12-31 15:35:00</td>\n      <td>925 Chestnut St</td>\n      <td>San Francisco</td>\n      <td>CA</td>\n    </tr>\n  </tbody>\n</table>\n<p>34502 rows × 8 columns</p>\n</div>"
     },
     "execution_count": 158,
     "metadata": {},
     "output_type": "execute_result"
    }
   ],
   "source": [
    "df_shop2 = df_shop2.dropna(how='all')\n",
    "df_shop2"
   ],
   "metadata": {
    "collapsed": false,
    "ExecuteTime": {
     "end_time": "2023-12-14T10:22:28.303413400Z",
     "start_time": "2023-12-14T10:22:28.228700Z"
    }
   },
   "id": "ad82fae173df20f8"
  },
  {
   "cell_type": "markdown",
   "id": "eda65f9d",
   "metadata": {
    "pycharm": {
     "name": "#%% md\n"
    }
   },
   "source": [
    "#### 2.1.3 Shop 3 (JSON)"
   ]
  },
  {
   "cell_type": "code",
   "execution_count": 159,
   "id": "82f5eac7",
   "metadata": {
    "pycharm": {
     "name": "#%%\n"
    },
    "ExecuteTime": {
     "end_time": "2023-12-14T10:22:28.363257400Z",
     "start_time": "2023-12-14T10:22:28.250402700Z"
    }
   },
   "outputs": [
    {
     "data": {
      "text/plain": "       Order ID                 Product  Quantity Ordered  Price Each  \\\n0      Order ID                 Product  Quantity Ordered  Price Each   \n1      Order ID                 Product  Quantity Ordered  Price Each   \n2        182446    USB-C Charging Cable                 1       11.99   \n3        182447   AA Batteries (4-pack)                 2        3.99   \n4        182448            Google Phone                 1      599.99   \n...         ...                     ...               ...         ...   \n29269    336431  AAA Batteries (4-pack)                 4        2.99   \n29270    336442        Wired Headphones                 1       11.99   \n29271    336444  AAA Batteries (4-pack)                 2        2.99   \n29272    336455        Wired Headphones                 1       11.99   \n29273    336456        Wired Headphones                 2       11.99   \n\n           Order Date   Street Address           City  State  \n0          Order Date   Street Address           City  State  \n1          Order Date   Street Address           City  State  \n2      01/18/22 21:12  222 Highland St        Atlanta     GA  \n3      01/08/22 22:18       457 6th St         Dallas     TX  \n4      01/22/22 12:10     271 Cedar St  San Francisco     CA  \n...               ...              ...            ...    ...  \n29269  12/16/22 12:38      970 13th St  San Francisco     CA  \n29270  12/18/22 16:29   848 Johnson St       Portland     ME  \n29271  12/05/22 13:44       589 5th St       Portland     ME  \n29272  12/06/22 14:15  357 Highland St  New York City     NY  \n29273  12/11/22 21:54    996 Spruce St  San Francisco     CA  \n\n[29274 rows x 8 columns]",
      "text/html": "<div>\n<style scoped>\n    .dataframe tbody tr th:only-of-type {\n        vertical-align: middle;\n    }\n\n    .dataframe tbody tr th {\n        vertical-align: top;\n    }\n\n    .dataframe thead th {\n        text-align: right;\n    }\n</style>\n<table border=\"1\" class=\"dataframe\">\n  <thead>\n    <tr style=\"text-align: right;\">\n      <th></th>\n      <th>Order ID</th>\n      <th>Product</th>\n      <th>Quantity Ordered</th>\n      <th>Price Each</th>\n      <th>Order Date</th>\n      <th>Street Address</th>\n      <th>City</th>\n      <th>State</th>\n    </tr>\n  </thead>\n  <tbody>\n    <tr>\n      <th>0</th>\n      <td>Order ID</td>\n      <td>Product</td>\n      <td>Quantity Ordered</td>\n      <td>Price Each</td>\n      <td>Order Date</td>\n      <td>Street Address</td>\n      <td>City</td>\n      <td>State</td>\n    </tr>\n    <tr>\n      <th>1</th>\n      <td>Order ID</td>\n      <td>Product</td>\n      <td>Quantity Ordered</td>\n      <td>Price Each</td>\n      <td>Order Date</td>\n      <td>Street Address</td>\n      <td>City</td>\n      <td>State</td>\n    </tr>\n    <tr>\n      <th>2</th>\n      <td>182446</td>\n      <td>USB-C Charging Cable</td>\n      <td>1</td>\n      <td>11.99</td>\n      <td>01/18/22 21:12</td>\n      <td>222 Highland St</td>\n      <td>Atlanta</td>\n      <td>GA</td>\n    </tr>\n    <tr>\n      <th>3</th>\n      <td>182447</td>\n      <td>AA Batteries (4-pack)</td>\n      <td>2</td>\n      <td>3.99</td>\n      <td>01/08/22 22:18</td>\n      <td>457 6th St</td>\n      <td>Dallas</td>\n      <td>TX</td>\n    </tr>\n    <tr>\n      <th>4</th>\n      <td>182448</td>\n      <td>Google Phone</td>\n      <td>1</td>\n      <td>599.99</td>\n      <td>01/22/22 12:10</td>\n      <td>271 Cedar St</td>\n      <td>San Francisco</td>\n      <td>CA</td>\n    </tr>\n    <tr>\n      <th>...</th>\n      <td>...</td>\n      <td>...</td>\n      <td>...</td>\n      <td>...</td>\n      <td>...</td>\n      <td>...</td>\n      <td>...</td>\n      <td>...</td>\n    </tr>\n    <tr>\n      <th>29269</th>\n      <td>336431</td>\n      <td>AAA Batteries (4-pack)</td>\n      <td>4</td>\n      <td>2.99</td>\n      <td>12/16/22 12:38</td>\n      <td>970 13th St</td>\n      <td>San Francisco</td>\n      <td>CA</td>\n    </tr>\n    <tr>\n      <th>29270</th>\n      <td>336442</td>\n      <td>Wired Headphones</td>\n      <td>1</td>\n      <td>11.99</td>\n      <td>12/18/22 16:29</td>\n      <td>848 Johnson St</td>\n      <td>Portland</td>\n      <td>ME</td>\n    </tr>\n    <tr>\n      <th>29271</th>\n      <td>336444</td>\n      <td>AAA Batteries (4-pack)</td>\n      <td>2</td>\n      <td>2.99</td>\n      <td>12/05/22 13:44</td>\n      <td>589 5th St</td>\n      <td>Portland</td>\n      <td>ME</td>\n    </tr>\n    <tr>\n      <th>29272</th>\n      <td>336455</td>\n      <td>Wired Headphones</td>\n      <td>1</td>\n      <td>11.99</td>\n      <td>12/06/22 14:15</td>\n      <td>357 Highland St</td>\n      <td>New York City</td>\n      <td>NY</td>\n    </tr>\n    <tr>\n      <th>29273</th>\n      <td>336456</td>\n      <td>Wired Headphones</td>\n      <td>2</td>\n      <td>11.99</td>\n      <td>12/11/22 21:54</td>\n      <td>996 Spruce St</td>\n      <td>San Francisco</td>\n      <td>CA</td>\n    </tr>\n  </tbody>\n</table>\n<p>29274 rows × 8 columns</p>\n</div>"
     },
     "execution_count": 159,
     "metadata": {},
     "output_type": "execute_result"
    }
   ],
   "source": [
    "df_shop3 = pd.read_json(shop3_file, orient='split')\n",
    "df_shop3"
   ]
  },
  {
   "cell_type": "code",
   "execution_count": 160,
   "outputs": [
    {
     "name": "stdout",
     "output_type": "stream",
     "text": [
      "Index(['Order ID', 'Product', 'Quantity Ordered', 'Price Each', 'Order Date',\n",
      "       'Street Address', 'City', 'State'],\n",
      "      dtype='object')\n",
      "8\n"
     ]
    },
    {
     "data": {
      "text/plain": "(None, None)"
     },
     "execution_count": 160,
     "metadata": {},
     "output_type": "execute_result"
    }
   ],
   "source": [
    "columns3 = df_shop3.columns\n",
    "print(columns3), print(len(columns3))"
   ],
   "metadata": {
    "collapsed": false,
    "ExecuteTime": {
     "end_time": "2023-12-14T10:22:28.388257300Z",
     "start_time": "2023-12-14T10:22:28.331786800Z"
    }
   },
   "id": "4f0e28ca414faf6"
  },
  {
   "cell_type": "markdown",
   "source": [
    "**Clean incoherent rows**"
   ],
   "metadata": {
    "collapsed": false
   },
   "id": "7ffc63748a62e59b"
  },
  {
   "cell_type": "code",
   "execution_count": 161,
   "outputs": [
    {
     "name": "stderr",
     "output_type": "stream",
     "text": [
      "C:\\Users\\ribei\\AppData\\Local\\Temp\\ipykernel_20020\\655196598.py:2: SettingWithCopyWarning: \n",
      "A value is trying to be set on a copy of a slice from a DataFrame.\n",
      "Try using .loc[row_indexer,col_indexer] = value instead\n",
      "\n",
      "See the caveats in the documentation: https://pandas.pydata.org/pandas-docs/stable/user_guide/indexing.html#returning-a-view-versus-a-copy\n",
      "  df_shop3['Order Date'] = pd.to_datetime(df_shop3['Order Date'], format='%m/%d/%y %H:%M')\n"
     ]
    },
    {
     "data": {
      "text/plain": "      Order ID                 Product Quantity Ordered Price Each  \\\n2       182446    USB-C Charging Cable                1      11.99   \n3       182447   AA Batteries (4-pack)                2       3.99   \n4       182448            Google Phone                1     599.99   \n5       182451        Wired Headphones                1      11.99   \n6       182454           Flatscreen TV                1     299.99   \n...        ...                     ...              ...        ...   \n29269   336431  AAA Batteries (4-pack)                4       2.99   \n29270   336442        Wired Headphones                1      11.99   \n29271   336444  AAA Batteries (4-pack)                2       2.99   \n29272   336455        Wired Headphones                1      11.99   \n29273   336456        Wired Headphones                2      11.99   \n\n               Order Date   Street Address           City State  \n2     2022-01-18 21:12:00  222 Highland St        Atlanta    GA  \n3     2022-01-08 22:18:00       457 6th St         Dallas    TX  \n4     2022-01-22 12:10:00     271 Cedar St  San Francisco    CA  \n5     2022-01-05 16:31:00   264 Lincoln St        Seattle    WA  \n6     2022-01-03 09:38:00   292 Lincoln St    Los Angeles    CA  \n...                   ...              ...            ...   ...  \n29269 2022-12-16 12:38:00      970 13th St  San Francisco    CA  \n29270 2022-12-18 16:29:00   848 Johnson St       Portland    ME  \n29271 2022-12-05 13:44:00       589 5th St       Portland    ME  \n29272 2022-12-06 14:15:00  357 Highland St  New York City    NY  \n29273 2022-12-11 21:54:00    996 Spruce St  San Francisco    CA  \n\n[29016 rows x 8 columns]",
      "text/html": "<div>\n<style scoped>\n    .dataframe tbody tr th:only-of-type {\n        vertical-align: middle;\n    }\n\n    .dataframe tbody tr th {\n        vertical-align: top;\n    }\n\n    .dataframe thead th {\n        text-align: right;\n    }\n</style>\n<table border=\"1\" class=\"dataframe\">\n  <thead>\n    <tr style=\"text-align: right;\">\n      <th></th>\n      <th>Order ID</th>\n      <th>Product</th>\n      <th>Quantity Ordered</th>\n      <th>Price Each</th>\n      <th>Order Date</th>\n      <th>Street Address</th>\n      <th>City</th>\n      <th>State</th>\n    </tr>\n  </thead>\n  <tbody>\n    <tr>\n      <th>2</th>\n      <td>182446</td>\n      <td>USB-C Charging Cable</td>\n      <td>1</td>\n      <td>11.99</td>\n      <td>2022-01-18 21:12:00</td>\n      <td>222 Highland St</td>\n      <td>Atlanta</td>\n      <td>GA</td>\n    </tr>\n    <tr>\n      <th>3</th>\n      <td>182447</td>\n      <td>AA Batteries (4-pack)</td>\n      <td>2</td>\n      <td>3.99</td>\n      <td>2022-01-08 22:18:00</td>\n      <td>457 6th St</td>\n      <td>Dallas</td>\n      <td>TX</td>\n    </tr>\n    <tr>\n      <th>4</th>\n      <td>182448</td>\n      <td>Google Phone</td>\n      <td>1</td>\n      <td>599.99</td>\n      <td>2022-01-22 12:10:00</td>\n      <td>271 Cedar St</td>\n      <td>San Francisco</td>\n      <td>CA</td>\n    </tr>\n    <tr>\n      <th>5</th>\n      <td>182451</td>\n      <td>Wired Headphones</td>\n      <td>1</td>\n      <td>11.99</td>\n      <td>2022-01-05 16:31:00</td>\n      <td>264 Lincoln St</td>\n      <td>Seattle</td>\n      <td>WA</td>\n    </tr>\n    <tr>\n      <th>6</th>\n      <td>182454</td>\n      <td>Flatscreen TV</td>\n      <td>1</td>\n      <td>299.99</td>\n      <td>2022-01-03 09:38:00</td>\n      <td>292 Lincoln St</td>\n      <td>Los Angeles</td>\n      <td>CA</td>\n    </tr>\n    <tr>\n      <th>...</th>\n      <td>...</td>\n      <td>...</td>\n      <td>...</td>\n      <td>...</td>\n      <td>...</td>\n      <td>...</td>\n      <td>...</td>\n      <td>...</td>\n    </tr>\n    <tr>\n      <th>29269</th>\n      <td>336431</td>\n      <td>AAA Batteries (4-pack)</td>\n      <td>4</td>\n      <td>2.99</td>\n      <td>2022-12-16 12:38:00</td>\n      <td>970 13th St</td>\n      <td>San Francisco</td>\n      <td>CA</td>\n    </tr>\n    <tr>\n      <th>29270</th>\n      <td>336442</td>\n      <td>Wired Headphones</td>\n      <td>1</td>\n      <td>11.99</td>\n      <td>2022-12-18 16:29:00</td>\n      <td>848 Johnson St</td>\n      <td>Portland</td>\n      <td>ME</td>\n    </tr>\n    <tr>\n      <th>29271</th>\n      <td>336444</td>\n      <td>AAA Batteries (4-pack)</td>\n      <td>2</td>\n      <td>2.99</td>\n      <td>2022-12-05 13:44:00</td>\n      <td>589 5th St</td>\n      <td>Portland</td>\n      <td>ME</td>\n    </tr>\n    <tr>\n      <th>29272</th>\n      <td>336455</td>\n      <td>Wired Headphones</td>\n      <td>1</td>\n      <td>11.99</td>\n      <td>2022-12-06 14:15:00</td>\n      <td>357 Highland St</td>\n      <td>New York City</td>\n      <td>NY</td>\n    </tr>\n    <tr>\n      <th>29273</th>\n      <td>336456</td>\n      <td>Wired Headphones</td>\n      <td>2</td>\n      <td>11.99</td>\n      <td>2022-12-11 21:54:00</td>\n      <td>996 Spruce St</td>\n      <td>San Francisco</td>\n      <td>CA</td>\n    </tr>\n  </tbody>\n</table>\n<p>29016 rows × 8 columns</p>\n</div>"
     },
     "execution_count": 161,
     "metadata": {},
     "output_type": "execute_result"
    }
   ],
   "source": [
    "df_shop3 = df_shop3[df_shop3['Order ID'] != 'Order ID']\n",
    "df_shop3['Order Date'] = pd.to_datetime(df_shop3['Order Date'], format='%m/%d/%y %H:%M')\n",
    "df_shop3"
   ],
   "metadata": {
    "collapsed": false,
    "ExecuteTime": {
     "end_time": "2023-12-14T10:22:28.588404800Z",
     "start_time": "2023-12-14T10:22:28.337259100Z"
    }
   },
   "id": "8d818c27b6955dd1"
  },
  {
   "cell_type": "markdown",
   "id": "e6efae5c",
   "metadata": {
    "pycharm": {
     "name": "#%% md\n"
    }
   },
   "source": [
    "#### 2.1.4 Shop 4 (XML)"
   ]
  },
  {
   "cell_type": "code",
   "execution_count": 162,
   "id": "c2be1b85",
   "metadata": {
    "pycharm": {
     "name": "#%%\n"
    },
    "ExecuteTime": {
     "end_time": "2023-12-14T10:22:29.774162900Z",
     "start_time": "2023-12-14T10:22:28.440883800Z"
    }
   },
   "outputs": [
    {
     "data": {
      "text/plain": "       orderId                   product  quantityOrdered  priceEach  \\\n0       182437              Google Phone                1     649.00   \n1       182437      USB-C Charging Cable                2      13.99   \n2       182442          Wired Headphones                2      13.99   \n3       182452      USB-C Charging Cable                2      13.99   \n4       182458    AAA Batteries (4-pack)                2       3.99   \n...        ...                       ...              ...        ...   \n19433   336443              20in Monitor                1     129.00   \n19434   336445      USB-C Charging Cable                1      13.99   \n19435   336449              20in Monitor                1     129.00   \n19436   336454    AAA Batteries (4-pack)                1       3.99   \n19437   336461  Lightning Charging Cable                1      16.99   \n\n                 orderDate                     purchaseAddress processedBy  \n0      2022-01-18 18:58:00          34 5th St, Los Angeles, CA       Carol  \n1      2022-01-18 18:58:00          34 5th St, Los Angeles, CA       Carol  \n2      2022-01-21 20:28:00      282 Washington St, Seattle, WA       Carol  \n3      2022-01-12 09:28:00  171 Washington St, Los Angeles, CA         Joe  \n4      2022-01-20 17:13:00    234 Highland St, Los Angeles, CA       James  \n...                    ...                                 ...         ...  \n19433  2022-12-09 12:38:00      831 West St, San Francisco, CA       Carol  \n19434  2022-12-20 10:42:00             194 14th St, Dallas, TX       Carol  \n19435  2022-12-06 20:20:00           505 Cedar St, Atlanta, GA       Carol  \n19436  2022-12-11 21:05:00            429 South St, Dallas, TX        Anna  \n19437  2022-12-06 23:51:00           955 Wilson St, Dallas, TX       Carol  \n\n[19438 rows x 7 columns]",
      "text/html": "<div>\n<style scoped>\n    .dataframe tbody tr th:only-of-type {\n        vertical-align: middle;\n    }\n\n    .dataframe tbody tr th {\n        vertical-align: top;\n    }\n\n    .dataframe thead th {\n        text-align: right;\n    }\n</style>\n<table border=\"1\" class=\"dataframe\">\n  <thead>\n    <tr style=\"text-align: right;\">\n      <th></th>\n      <th>orderId</th>\n      <th>product</th>\n      <th>quantityOrdered</th>\n      <th>priceEach</th>\n      <th>orderDate</th>\n      <th>purchaseAddress</th>\n      <th>processedBy</th>\n    </tr>\n  </thead>\n  <tbody>\n    <tr>\n      <th>0</th>\n      <td>182437</td>\n      <td>Google Phone</td>\n      <td>1</td>\n      <td>649.00</td>\n      <td>2022-01-18 18:58:00</td>\n      <td>34 5th St, Los Angeles, CA</td>\n      <td>Carol</td>\n    </tr>\n    <tr>\n      <th>1</th>\n      <td>182437</td>\n      <td>USB-C Charging Cable</td>\n      <td>2</td>\n      <td>13.99</td>\n      <td>2022-01-18 18:58:00</td>\n      <td>34 5th St, Los Angeles, CA</td>\n      <td>Carol</td>\n    </tr>\n    <tr>\n      <th>2</th>\n      <td>182442</td>\n      <td>Wired Headphones</td>\n      <td>2</td>\n      <td>13.99</td>\n      <td>2022-01-21 20:28:00</td>\n      <td>282 Washington St, Seattle, WA</td>\n      <td>Carol</td>\n    </tr>\n    <tr>\n      <th>3</th>\n      <td>182452</td>\n      <td>USB-C Charging Cable</td>\n      <td>2</td>\n      <td>13.99</td>\n      <td>2022-01-12 09:28:00</td>\n      <td>171 Washington St, Los Angeles, CA</td>\n      <td>Joe</td>\n    </tr>\n    <tr>\n      <th>4</th>\n      <td>182458</td>\n      <td>AAA Batteries (4-pack)</td>\n      <td>2</td>\n      <td>3.99</td>\n      <td>2022-01-20 17:13:00</td>\n      <td>234 Highland St, Los Angeles, CA</td>\n      <td>James</td>\n    </tr>\n    <tr>\n      <th>...</th>\n      <td>...</td>\n      <td>...</td>\n      <td>...</td>\n      <td>...</td>\n      <td>...</td>\n      <td>...</td>\n      <td>...</td>\n    </tr>\n    <tr>\n      <th>19433</th>\n      <td>336443</td>\n      <td>20in Monitor</td>\n      <td>1</td>\n      <td>129.00</td>\n      <td>2022-12-09 12:38:00</td>\n      <td>831 West St, San Francisco, CA</td>\n      <td>Carol</td>\n    </tr>\n    <tr>\n      <th>19434</th>\n      <td>336445</td>\n      <td>USB-C Charging Cable</td>\n      <td>1</td>\n      <td>13.99</td>\n      <td>2022-12-20 10:42:00</td>\n      <td>194 14th St, Dallas, TX</td>\n      <td>Carol</td>\n    </tr>\n    <tr>\n      <th>19435</th>\n      <td>336449</td>\n      <td>20in Monitor</td>\n      <td>1</td>\n      <td>129.00</td>\n      <td>2022-12-06 20:20:00</td>\n      <td>505 Cedar St, Atlanta, GA</td>\n      <td>Carol</td>\n    </tr>\n    <tr>\n      <th>19436</th>\n      <td>336454</td>\n      <td>AAA Batteries (4-pack)</td>\n      <td>1</td>\n      <td>3.99</td>\n      <td>2022-12-11 21:05:00</td>\n      <td>429 South St, Dallas, TX</td>\n      <td>Anna</td>\n    </tr>\n    <tr>\n      <th>19437</th>\n      <td>336461</td>\n      <td>Lightning Charging Cable</td>\n      <td>1</td>\n      <td>16.99</td>\n      <td>2022-12-06 23:51:00</td>\n      <td>955 Wilson St, Dallas, TX</td>\n      <td>Carol</td>\n    </tr>\n  </tbody>\n</table>\n<p>19438 rows × 7 columns</p>\n</div>"
     },
     "execution_count": 162,
     "metadata": {},
     "output_type": "execute_result"
    }
   ],
   "source": [
    "df_shop4 = pd.read_xml(shop4_file)\n",
    "df_shop4"
   ]
  },
  {
   "cell_type": "code",
   "execution_count": 163,
   "outputs": [
    {
     "name": "stdout",
     "output_type": "stream",
     "text": [
      "Index(['orderId', 'product', 'quantityOrdered', 'priceEach', 'orderDate',\n",
      "       'purchaseAddress', 'processedBy'],\n",
      "      dtype='object')\n",
      "7\n"
     ]
    },
    {
     "data": {
      "text/plain": "(None, None)"
     },
     "execution_count": 163,
     "metadata": {},
     "output_type": "execute_result"
    }
   ],
   "source": [
    "columns4 = df_shop4.columns\n",
    "print(columns4), print(len(columns4))"
   ],
   "metadata": {
    "collapsed": false,
    "ExecuteTime": {
     "end_time": "2023-12-14T10:22:29.780704700Z",
     "start_time": "2023-12-14T10:22:29.775162600Z"
    }
   },
   "id": "f024ffbb9398d21e"
  },
  {
   "cell_type": "markdown",
   "source": [
    "1. **Rename columns** "
   ],
   "metadata": {
    "collapsed": false
   },
   "id": "c59d241220384567"
  },
  {
   "cell_type": "code",
   "execution_count": 164,
   "outputs": [
    {
     "name": "stdout",
     "output_type": "stream",
     "text": [
      "Index(['Order ID', 'Product', 'Quantity Ordered', 'Price Each', 'Order Date',\n",
      "       'Purchase Address', 'processedBy'],\n",
      "      dtype='object')\n",
      "7\n"
     ]
    },
    {
     "data": {
      "text/plain": "(None, None)"
     },
     "execution_count": 164,
     "metadata": {},
     "output_type": "execute_result"
    }
   ],
   "source": [
    "df_shop4.rename(columns={\n",
    "    'orderId': 'Order ID',\n",
    "    'product': 'Product',\n",
    "    'quantityOrdered': 'Quantity Ordered',\n",
    "    'priceEach': 'Price Each',\n",
    "    'orderDate': 'Order Date',\n",
    "    'purchaseAddress': 'Purchase Address'\n",
    "}, inplace=True)\n",
    "\n",
    "columns4 = df_shop4.columns\n",
    "print(columns4), print(len(columns4))"
   ],
   "metadata": {
    "collapsed": false,
    "ExecuteTime": {
     "end_time": "2023-12-14T10:22:29.788220600Z",
     "start_time": "2023-12-14T10:22:29.779704600Z"
    }
   },
   "id": "8577e9f790fbce22"
  },
  {
   "cell_type": "markdown",
   "source": [
    "2. Split the **'Purchase Address'** Column"
   ],
   "metadata": {
    "collapsed": false
   },
   "id": "5e2553bab02a4b56"
  },
  {
   "cell_type": "code",
   "execution_count": 165,
   "outputs": [
    {
     "data": {
      "text/plain": "       Order ID                   Product  Quantity Ordered  Price Each  \\\n0        182437              Google Phone                 1      649.00   \n1        182437      USB-C Charging Cable                 2       13.99   \n2        182442          Wired Headphones                 2       13.99   \n3        182452      USB-C Charging Cable                 2       13.99   \n4        182458    AAA Batteries (4-pack)                 2        3.99   \n...         ...                       ...               ...         ...   \n19433    336443              20in Monitor                 1      129.00   \n19434    336445      USB-C Charging Cable                 1       13.99   \n19435    336449              20in Monitor                 1      129.00   \n19436    336454    AAA Batteries (4-pack)                 1        3.99   \n19437    336461  Lightning Charging Cable                 1       16.99   \n\n                Order Date processedBy     Street Address           City State  \n0      2022-01-18 18:58:00       Carol          34 5th St    Los Angeles    CA  \n1      2022-01-18 18:58:00       Carol          34 5th St    Los Angeles    CA  \n2      2022-01-21 20:28:00       Carol  282 Washington St        Seattle    WA  \n3      2022-01-12 09:28:00         Joe  171 Washington St    Los Angeles    CA  \n4      2022-01-20 17:13:00       James    234 Highland St    Los Angeles    CA  \n...                    ...         ...                ...            ...   ...  \n19433  2022-12-09 12:38:00       Carol        831 West St  San Francisco    CA  \n19434  2022-12-20 10:42:00       Carol        194 14th St         Dallas    TX  \n19435  2022-12-06 20:20:00       Carol       505 Cedar St        Atlanta    GA  \n19436  2022-12-11 21:05:00        Anna       429 South St         Dallas    TX  \n19437  2022-12-06 23:51:00       Carol      955 Wilson St         Dallas    TX  \n\n[19438 rows x 9 columns]",
      "text/html": "<div>\n<style scoped>\n    .dataframe tbody tr th:only-of-type {\n        vertical-align: middle;\n    }\n\n    .dataframe tbody tr th {\n        vertical-align: top;\n    }\n\n    .dataframe thead th {\n        text-align: right;\n    }\n</style>\n<table border=\"1\" class=\"dataframe\">\n  <thead>\n    <tr style=\"text-align: right;\">\n      <th></th>\n      <th>Order ID</th>\n      <th>Product</th>\n      <th>Quantity Ordered</th>\n      <th>Price Each</th>\n      <th>Order Date</th>\n      <th>processedBy</th>\n      <th>Street Address</th>\n      <th>City</th>\n      <th>State</th>\n    </tr>\n  </thead>\n  <tbody>\n    <tr>\n      <th>0</th>\n      <td>182437</td>\n      <td>Google Phone</td>\n      <td>1</td>\n      <td>649.00</td>\n      <td>2022-01-18 18:58:00</td>\n      <td>Carol</td>\n      <td>34 5th St</td>\n      <td>Los Angeles</td>\n      <td>CA</td>\n    </tr>\n    <tr>\n      <th>1</th>\n      <td>182437</td>\n      <td>USB-C Charging Cable</td>\n      <td>2</td>\n      <td>13.99</td>\n      <td>2022-01-18 18:58:00</td>\n      <td>Carol</td>\n      <td>34 5th St</td>\n      <td>Los Angeles</td>\n      <td>CA</td>\n    </tr>\n    <tr>\n      <th>2</th>\n      <td>182442</td>\n      <td>Wired Headphones</td>\n      <td>2</td>\n      <td>13.99</td>\n      <td>2022-01-21 20:28:00</td>\n      <td>Carol</td>\n      <td>282 Washington St</td>\n      <td>Seattle</td>\n      <td>WA</td>\n    </tr>\n    <tr>\n      <th>3</th>\n      <td>182452</td>\n      <td>USB-C Charging Cable</td>\n      <td>2</td>\n      <td>13.99</td>\n      <td>2022-01-12 09:28:00</td>\n      <td>Joe</td>\n      <td>171 Washington St</td>\n      <td>Los Angeles</td>\n      <td>CA</td>\n    </tr>\n    <tr>\n      <th>4</th>\n      <td>182458</td>\n      <td>AAA Batteries (4-pack)</td>\n      <td>2</td>\n      <td>3.99</td>\n      <td>2022-01-20 17:13:00</td>\n      <td>James</td>\n      <td>234 Highland St</td>\n      <td>Los Angeles</td>\n      <td>CA</td>\n    </tr>\n    <tr>\n      <th>...</th>\n      <td>...</td>\n      <td>...</td>\n      <td>...</td>\n      <td>...</td>\n      <td>...</td>\n      <td>...</td>\n      <td>...</td>\n      <td>...</td>\n      <td>...</td>\n    </tr>\n    <tr>\n      <th>19433</th>\n      <td>336443</td>\n      <td>20in Monitor</td>\n      <td>1</td>\n      <td>129.00</td>\n      <td>2022-12-09 12:38:00</td>\n      <td>Carol</td>\n      <td>831 West St</td>\n      <td>San Francisco</td>\n      <td>CA</td>\n    </tr>\n    <tr>\n      <th>19434</th>\n      <td>336445</td>\n      <td>USB-C Charging Cable</td>\n      <td>1</td>\n      <td>13.99</td>\n      <td>2022-12-20 10:42:00</td>\n      <td>Carol</td>\n      <td>194 14th St</td>\n      <td>Dallas</td>\n      <td>TX</td>\n    </tr>\n    <tr>\n      <th>19435</th>\n      <td>336449</td>\n      <td>20in Monitor</td>\n      <td>1</td>\n      <td>129.00</td>\n      <td>2022-12-06 20:20:00</td>\n      <td>Carol</td>\n      <td>505 Cedar St</td>\n      <td>Atlanta</td>\n      <td>GA</td>\n    </tr>\n    <tr>\n      <th>19436</th>\n      <td>336454</td>\n      <td>AAA Batteries (4-pack)</td>\n      <td>1</td>\n      <td>3.99</td>\n      <td>2022-12-11 21:05:00</td>\n      <td>Anna</td>\n      <td>429 South St</td>\n      <td>Dallas</td>\n      <td>TX</td>\n    </tr>\n    <tr>\n      <th>19437</th>\n      <td>336461</td>\n      <td>Lightning Charging Cable</td>\n      <td>1</td>\n      <td>16.99</td>\n      <td>2022-12-06 23:51:00</td>\n      <td>Carol</td>\n      <td>955 Wilson St</td>\n      <td>Dallas</td>\n      <td>TX</td>\n    </tr>\n  </tbody>\n</table>\n<p>19438 rows × 9 columns</p>\n</div>"
     },
     "execution_count": 165,
     "metadata": {},
     "output_type": "execute_result"
    }
   ],
   "source": [
    "df_shop4[['Street Address', 'City', 'State']] = df_shop4['Purchase Address'].str.split(', ', expand=True)\n",
    "df_shop4['State'] = df_shop4['State'].str.split(' ').str[0]\n",
    "df_shop4.drop(columns=['Purchase Address'], inplace=True)\n",
    "df_shop4"
   ],
   "metadata": {
    "collapsed": false,
    "ExecuteTime": {
     "end_time": "2023-12-14T10:22:29.921890700Z",
     "start_time": "2023-12-14T10:22:29.788220600Z"
    }
   },
   "id": "189858aecaff3b58"
  },
  {
   "cell_type": "markdown",
   "source": [
    "3. Remove the **'ProcessedBy'** Column"
   ],
   "metadata": {
    "collapsed": false
   },
   "id": "8858519376bee7b3"
  },
  {
   "cell_type": "code",
   "execution_count": 166,
   "outputs": [],
   "source": [
    "df_shop4.drop(columns=['processedBy'], inplace=True)"
   ],
   "metadata": {
    "collapsed": false,
    "ExecuteTime": {
     "end_time": "2023-12-14T10:22:29.949465700Z",
     "start_time": "2023-12-14T10:22:29.862948900Z"
    }
   },
   "id": "ba627b4f8ea17780"
  },
  {
   "cell_type": "code",
   "execution_count": 167,
   "outputs": [
    {
     "name": "stdout",
     "output_type": "stream",
     "text": [
      "Index(['Order ID', 'Product', 'Quantity Ordered', 'Price Each', 'Order Date',\n",
      "       'Street Address', 'City', 'State'],\n",
      "      dtype='object')\n",
      "8\n"
     ]
    },
    {
     "data": {
      "text/plain": "(None, None)"
     },
     "execution_count": 167,
     "metadata": {},
     "output_type": "execute_result"
    }
   ],
   "source": [
    "columns4 = df_shop4.columns\n",
    "print(columns4), print(len(columns4))"
   ],
   "metadata": {
    "collapsed": false,
    "ExecuteTime": {
     "end_time": "2023-12-14T10:22:29.949465700Z",
     "start_time": "2023-12-14T10:22:29.872423Z"
    }
   },
   "id": "ce68ec78dd2d1f52"
  },
  {
   "cell_type": "markdown",
   "id": "45382a95",
   "metadata": {
    "pycharm": {
     "name": "#%% md\n"
    }
   },
   "source": [
    "#### 2.1.5 Shop 5 (Parquet)"
   ]
  },
  {
   "cell_type": "code",
   "execution_count": 168,
   "id": "aba3d921",
   "metadata": {
    "pycharm": {
     "name": "#%%\n"
    },
    "ExecuteTime": {
     "end_time": "2023-12-14T10:22:29.959462900Z",
     "start_time": "2023-12-14T10:22:29.877367400Z"
    }
   },
   "outputs": [
    {
     "data": {
      "text/plain": "       Order ID                 Product  Quantity Ordered  Price Each  \\\n0        182427   AA Batteries (4-pack)                 4        0.00   \n1        182430  AAA Batteries (4-pack)                 8        2.49   \n2        182455         ThinkPad Laptop                 1      959.00   \n3        182456  27in 4K Gaming Monitor                 1      379.99   \n4        182467           Flatscreen TV                 1      299.00   \n...         ...                     ...               ...         ...   \n38803    336433  34in Ultrawide Monitor                 1      369.99   \n38804    336434        Wired Headphones                 2       11.49   \n38805    336435  AAA Batteries (4-pack)                 1        2.49   \n38806    336439  34in Ultrawide Monitor                 1      369.99   \n38807    336460    USB-C Charging Cable                 2       11.49   \n\n               Order Date    Street Address           City State  \n0     2022-01-24 01:36:00        2 Maple St         Dallas    TX  \n1     2022-01-20 22:04:00        10 Lake St         Boston    MA  \n2     2022-01-23 19:01:00     169 Center St         Boston    MA  \n3     2022-01-09 13:51:00      649 South St        Atlanta    GA  \n4     2022-01-24 11:22:00      890 Maple St    Los Angeles    CA  \n...                   ...               ...            ...   ...  \n38803 2022-12-07 16:42:00  718 Jefferson St        Seattle    WA  \n38804 2022-12-17 16:40:00        664 7th St       Portland    OR  \n38805 2022-12-30 16:44:00   780 Lakeview St        Seattle    WA  \n38806 2022-12-24 11:59:00        338 2nd St  New York City    NY  \n38807 2022-12-20 13:11:00     173 Center St  New York City    NY  \n\n[38808 rows x 8 columns]",
      "text/html": "<div>\n<style scoped>\n    .dataframe tbody tr th:only-of-type {\n        vertical-align: middle;\n    }\n\n    .dataframe tbody tr th {\n        vertical-align: top;\n    }\n\n    .dataframe thead th {\n        text-align: right;\n    }\n</style>\n<table border=\"1\" class=\"dataframe\">\n  <thead>\n    <tr style=\"text-align: right;\">\n      <th></th>\n      <th>Order ID</th>\n      <th>Product</th>\n      <th>Quantity Ordered</th>\n      <th>Price Each</th>\n      <th>Order Date</th>\n      <th>Street Address</th>\n      <th>City</th>\n      <th>State</th>\n    </tr>\n  </thead>\n  <tbody>\n    <tr>\n      <th>0</th>\n      <td>182427</td>\n      <td>AA Batteries (4-pack)</td>\n      <td>4</td>\n      <td>0.00</td>\n      <td>2022-01-24 01:36:00</td>\n      <td>2 Maple St</td>\n      <td>Dallas</td>\n      <td>TX</td>\n    </tr>\n    <tr>\n      <th>1</th>\n      <td>182430</td>\n      <td>AAA Batteries (4-pack)</td>\n      <td>8</td>\n      <td>2.49</td>\n      <td>2022-01-20 22:04:00</td>\n      <td>10 Lake St</td>\n      <td>Boston</td>\n      <td>MA</td>\n    </tr>\n    <tr>\n      <th>2</th>\n      <td>182455</td>\n      <td>ThinkPad Laptop</td>\n      <td>1</td>\n      <td>959.00</td>\n      <td>2022-01-23 19:01:00</td>\n      <td>169 Center St</td>\n      <td>Boston</td>\n      <td>MA</td>\n    </tr>\n    <tr>\n      <th>3</th>\n      <td>182456</td>\n      <td>27in 4K Gaming Monitor</td>\n      <td>1</td>\n      <td>379.99</td>\n      <td>2022-01-09 13:51:00</td>\n      <td>649 South St</td>\n      <td>Atlanta</td>\n      <td>GA</td>\n    </tr>\n    <tr>\n      <th>4</th>\n      <td>182467</td>\n      <td>Flatscreen TV</td>\n      <td>1</td>\n      <td>299.00</td>\n      <td>2022-01-24 11:22:00</td>\n      <td>890 Maple St</td>\n      <td>Los Angeles</td>\n      <td>CA</td>\n    </tr>\n    <tr>\n      <th>...</th>\n      <td>...</td>\n      <td>...</td>\n      <td>...</td>\n      <td>...</td>\n      <td>...</td>\n      <td>...</td>\n      <td>...</td>\n      <td>...</td>\n    </tr>\n    <tr>\n      <th>38803</th>\n      <td>336433</td>\n      <td>34in Ultrawide Monitor</td>\n      <td>1</td>\n      <td>369.99</td>\n      <td>2022-12-07 16:42:00</td>\n      <td>718 Jefferson St</td>\n      <td>Seattle</td>\n      <td>WA</td>\n    </tr>\n    <tr>\n      <th>38804</th>\n      <td>336434</td>\n      <td>Wired Headphones</td>\n      <td>2</td>\n      <td>11.49</td>\n      <td>2022-12-17 16:40:00</td>\n      <td>664 7th St</td>\n      <td>Portland</td>\n      <td>OR</td>\n    </tr>\n    <tr>\n      <th>38805</th>\n      <td>336435</td>\n      <td>AAA Batteries (4-pack)</td>\n      <td>1</td>\n      <td>2.49</td>\n      <td>2022-12-30 16:44:00</td>\n      <td>780 Lakeview St</td>\n      <td>Seattle</td>\n      <td>WA</td>\n    </tr>\n    <tr>\n      <th>38806</th>\n      <td>336439</td>\n      <td>34in Ultrawide Monitor</td>\n      <td>1</td>\n      <td>369.99</td>\n      <td>2022-12-24 11:59:00</td>\n      <td>338 2nd St</td>\n      <td>New York City</td>\n      <td>NY</td>\n    </tr>\n    <tr>\n      <th>38807</th>\n      <td>336460</td>\n      <td>USB-C Charging Cable</td>\n      <td>2</td>\n      <td>11.49</td>\n      <td>2022-12-20 13:11:00</td>\n      <td>173 Center St</td>\n      <td>New York City</td>\n      <td>NY</td>\n    </tr>\n  </tbody>\n</table>\n<p>38808 rows × 8 columns</p>\n</div>"
     },
     "execution_count": 168,
     "metadata": {},
     "output_type": "execute_result"
    }
   ],
   "source": [
    "df_shop5 = pd.read_parquet(shop5_file)\n",
    "df_shop5"
   ]
  },
  {
   "cell_type": "code",
   "execution_count": 169,
   "outputs": [
    {
     "name": "stdout",
     "output_type": "stream",
     "text": [
      "Index(['Order ID', 'Product', 'Quantity Ordered', 'Price Each', 'Order Date',\n",
      "       'Street Address', 'City', 'State'],\n",
      "      dtype='object')\n",
      "8\n"
     ]
    },
    {
     "data": {
      "text/plain": "(None, None)"
     },
     "execution_count": 169,
     "metadata": {},
     "output_type": "execute_result"
    }
   ],
   "source": [
    "columns5 = df_shop5.columns\n",
    "print(columns5), print(len(columns5))"
   ],
   "metadata": {
    "collapsed": false,
    "ExecuteTime": {
     "end_time": "2023-12-14T10:22:29.960464300Z",
     "start_time": "2023-12-14T10:22:29.929219400Z"
    }
   },
   "id": "e519fc912333bfd3"
  },
  {
   "cell_type": "markdown",
   "source": [
    "1. Get correct prices for each product "
   ],
   "metadata": {
    "collapsed": false
   },
   "id": "2bd9239ca0c00769"
  },
  {
   "cell_type": "code",
   "execution_count": 170,
   "outputs": [
    {
     "data": {
      "text/plain": "{'20in Monitor': 109.99,\n '27in 4K Gaming Monitor': 379.99,\n '27in FHD Monitor': 139.99,\n '34in Ultrawide Monitor': 369.99,\n 'AA Batteries (4-pack)': 3.99,\n 'AAA Batteries (4-pack)': 2.49,\n 'Apple Airpods Headphones': 139.0,\n 'Bose SoundSport Headphones': 89.99,\n 'Flatscreen TV': 299.0,\n 'Google Phone': 599.0,\n 'LG Dryer': 599.0,\n 'LG Washing Machine': 549.0,\n 'Lightning Charging Cable': 14.99,\n 'Macbook Pro Laptop': 1649.0,\n 'ThinkPad Laptop': 959.0,\n 'USB-C Charging Cable': 11.49,\n 'Vareebadd Phone': 399.0,\n 'Wired Headphones': 11.49,\n 'iPhone': 709.0}"
     },
     "execution_count": 170,
     "metadata": {},
     "output_type": "execute_result"
    }
   ],
   "source": [
    "correct_prices = df_shop5[df_shop5['Price Each'] > 0].groupby('Product')['Price Each'].mean().to_dict()\n",
    "correct_prices"
   ],
   "metadata": {
    "collapsed": false,
    "ExecuteTime": {
     "end_time": "2023-12-14T10:22:30.034964700Z",
     "start_time": "2023-12-14T10:22:29.934367800Z"
    }
   },
   "id": "6478ace3059be877"
  },
  {
   "cell_type": "code",
   "execution_count": 171,
   "outputs": [],
   "source": [
    "def get_correct_price(row, price_dict):\n",
    "    if row['Price Each'] == 0:\n",
    "        return price_dict[row['Product']]\n",
    "    else:\n",
    "        return row['Price Each']\n",
    "    \n",
    "df_shop5['Price Each'] = df_shop5.apply(get_correct_price, axis=1, price_dict=correct_prices)"
   ],
   "metadata": {
    "collapsed": false,
    "ExecuteTime": {
     "end_time": "2023-12-14T10:22:30.254840900Z",
     "start_time": "2023-12-14T10:22:29.949465700Z"
    }
   },
   "id": "284bbc499cd96622"
  },
  {
   "cell_type": "code",
   "execution_count": 172,
   "outputs": [
    {
     "data": {
      "text/plain": "       Order ID                 Product  Quantity Ordered  Price Each  \\\n0        182427   AA Batteries (4-pack)                 4        3.99   \n1        182430  AAA Batteries (4-pack)                 8        2.49   \n2        182455         ThinkPad Laptop                 1      959.00   \n3        182456  27in 4K Gaming Monitor                 1      379.99   \n4        182467           Flatscreen TV                 1      299.00   \n...         ...                     ...               ...         ...   \n38803    336433  34in Ultrawide Monitor                 1      369.99   \n38804    336434        Wired Headphones                 2       11.49   \n38805    336435  AAA Batteries (4-pack)                 1        2.49   \n38806    336439  34in Ultrawide Monitor                 1      369.99   \n38807    336460    USB-C Charging Cable                 2       11.49   \n\n               Order Date    Street Address           City State  \n0     2022-01-24 01:36:00        2 Maple St         Dallas    TX  \n1     2022-01-20 22:04:00        10 Lake St         Boston    MA  \n2     2022-01-23 19:01:00     169 Center St         Boston    MA  \n3     2022-01-09 13:51:00      649 South St        Atlanta    GA  \n4     2022-01-24 11:22:00      890 Maple St    Los Angeles    CA  \n...                   ...               ...            ...   ...  \n38803 2022-12-07 16:42:00  718 Jefferson St        Seattle    WA  \n38804 2022-12-17 16:40:00        664 7th St       Portland    OR  \n38805 2022-12-30 16:44:00   780 Lakeview St        Seattle    WA  \n38806 2022-12-24 11:59:00        338 2nd St  New York City    NY  \n38807 2022-12-20 13:11:00     173 Center St  New York City    NY  \n\n[38808 rows x 8 columns]",
      "text/html": "<div>\n<style scoped>\n    .dataframe tbody tr th:only-of-type {\n        vertical-align: middle;\n    }\n\n    .dataframe tbody tr th {\n        vertical-align: top;\n    }\n\n    .dataframe thead th {\n        text-align: right;\n    }\n</style>\n<table border=\"1\" class=\"dataframe\">\n  <thead>\n    <tr style=\"text-align: right;\">\n      <th></th>\n      <th>Order ID</th>\n      <th>Product</th>\n      <th>Quantity Ordered</th>\n      <th>Price Each</th>\n      <th>Order Date</th>\n      <th>Street Address</th>\n      <th>City</th>\n      <th>State</th>\n    </tr>\n  </thead>\n  <tbody>\n    <tr>\n      <th>0</th>\n      <td>182427</td>\n      <td>AA Batteries (4-pack)</td>\n      <td>4</td>\n      <td>3.99</td>\n      <td>2022-01-24 01:36:00</td>\n      <td>2 Maple St</td>\n      <td>Dallas</td>\n      <td>TX</td>\n    </tr>\n    <tr>\n      <th>1</th>\n      <td>182430</td>\n      <td>AAA Batteries (4-pack)</td>\n      <td>8</td>\n      <td>2.49</td>\n      <td>2022-01-20 22:04:00</td>\n      <td>10 Lake St</td>\n      <td>Boston</td>\n      <td>MA</td>\n    </tr>\n    <tr>\n      <th>2</th>\n      <td>182455</td>\n      <td>ThinkPad Laptop</td>\n      <td>1</td>\n      <td>959.00</td>\n      <td>2022-01-23 19:01:00</td>\n      <td>169 Center St</td>\n      <td>Boston</td>\n      <td>MA</td>\n    </tr>\n    <tr>\n      <th>3</th>\n      <td>182456</td>\n      <td>27in 4K Gaming Monitor</td>\n      <td>1</td>\n      <td>379.99</td>\n      <td>2022-01-09 13:51:00</td>\n      <td>649 South St</td>\n      <td>Atlanta</td>\n      <td>GA</td>\n    </tr>\n    <tr>\n      <th>4</th>\n      <td>182467</td>\n      <td>Flatscreen TV</td>\n      <td>1</td>\n      <td>299.00</td>\n      <td>2022-01-24 11:22:00</td>\n      <td>890 Maple St</td>\n      <td>Los Angeles</td>\n      <td>CA</td>\n    </tr>\n    <tr>\n      <th>...</th>\n      <td>...</td>\n      <td>...</td>\n      <td>...</td>\n      <td>...</td>\n      <td>...</td>\n      <td>...</td>\n      <td>...</td>\n      <td>...</td>\n    </tr>\n    <tr>\n      <th>38803</th>\n      <td>336433</td>\n      <td>34in Ultrawide Monitor</td>\n      <td>1</td>\n      <td>369.99</td>\n      <td>2022-12-07 16:42:00</td>\n      <td>718 Jefferson St</td>\n      <td>Seattle</td>\n      <td>WA</td>\n    </tr>\n    <tr>\n      <th>38804</th>\n      <td>336434</td>\n      <td>Wired Headphones</td>\n      <td>2</td>\n      <td>11.49</td>\n      <td>2022-12-17 16:40:00</td>\n      <td>664 7th St</td>\n      <td>Portland</td>\n      <td>OR</td>\n    </tr>\n    <tr>\n      <th>38805</th>\n      <td>336435</td>\n      <td>AAA Batteries (4-pack)</td>\n      <td>1</td>\n      <td>2.49</td>\n      <td>2022-12-30 16:44:00</td>\n      <td>780 Lakeview St</td>\n      <td>Seattle</td>\n      <td>WA</td>\n    </tr>\n    <tr>\n      <th>38806</th>\n      <td>336439</td>\n      <td>34in Ultrawide Monitor</td>\n      <td>1</td>\n      <td>369.99</td>\n      <td>2022-12-24 11:59:00</td>\n      <td>338 2nd St</td>\n      <td>New York City</td>\n      <td>NY</td>\n    </tr>\n    <tr>\n      <th>38807</th>\n      <td>336460</td>\n      <td>USB-C Charging Cable</td>\n      <td>2</td>\n      <td>11.49</td>\n      <td>2022-12-20 13:11:00</td>\n      <td>173 Center St</td>\n      <td>New York City</td>\n      <td>NY</td>\n    </tr>\n  </tbody>\n</table>\n<p>38808 rows × 8 columns</p>\n</div>"
     },
     "execution_count": 172,
     "metadata": {},
     "output_type": "execute_result"
    }
   ],
   "source": [
    "df_shop5"
   ],
   "metadata": {
    "collapsed": false,
    "ExecuteTime": {
     "end_time": "2023-12-14T10:22:30.266518300Z",
     "start_time": "2023-12-14T10:22:30.253845100Z"
    }
   },
   "id": "eaccafd0d6f4f7f0"
  },
  {
   "cell_type": "markdown",
   "id": "638e6044",
   "metadata": {
    "pycharm": {
     "name": "#%% md\n"
    }
   },
   "source": [
    "#### 2.1.6 Shop 6 (SQLite)"
   ]
  },
  {
   "cell_type": "code",
   "execution_count": 173,
   "id": "ca286f9c",
   "metadata": {
    "pycharm": {
     "name": "#%%\n"
    },
    "ExecuteTime": {
     "end_time": "2023-12-14T10:22:30.381782400Z",
     "start_time": "2023-12-14T10:22:30.268522700Z"
    }
   },
   "outputs": [
    {
     "data": {
      "text/plain": "       orderId                     product  priceEach            orderDate  \\\n0       182421        USB-C Charging Cable      11.99  2022-01-11 05:05:00   \n1       182423      34in Ultrawide Monitor     399.99  2022-01-29 13:12:00   \n2       182425    Lightning Charging Cable      14.99  2022-01-08 12:22:00   \n3       182438    Lightning Charging Cable      14.99  2022-01-17 10:10:00   \n4       182441      34in Ultrawide Monitor     399.99  2022-01-09 22:45:00   \n...        ...                         ...        ...                  ...   \n14712   336452                      iPhone     719.99  2022-12-17 22:04:00   \n14713   336458            Wired Headphones      14.99  2022-12-21 13:01:00   \n14714   336463  Bose SoundSport Headphones      99.99  2022-12-22 12:26:00   \n14715   336464        USB-C Charging Cable      11.99  2022-12-11 19:11:00   \n14716   336466    Lightning Charging Cable      14.99  2022-12-20 22:15:00   \n\n           streetAddress           city state  \n0      184 Washington St         Boston    MA  \n1             16 10th St        Seattle    WA  \n2        232 Highland St    Los Angeles    CA  \n3          556 Spruce St    Los Angeles    CA  \n4           576 Adams St        Atlanta    GA  \n...                  ...            ...   ...  \n14712          77 6th St         Austin    TX  \n14713     801 Dogwood St    Los Angeles    CA  \n14714         828 6th St  New York City    NY  \n14715         87 West St    Los Angeles    CA  \n14716       688 Adams St        Atlanta    GA  \n\n[14717 rows x 7 columns]",
      "text/html": "<div>\n<style scoped>\n    .dataframe tbody tr th:only-of-type {\n        vertical-align: middle;\n    }\n\n    .dataframe tbody tr th {\n        vertical-align: top;\n    }\n\n    .dataframe thead th {\n        text-align: right;\n    }\n</style>\n<table border=\"1\" class=\"dataframe\">\n  <thead>\n    <tr style=\"text-align: right;\">\n      <th></th>\n      <th>orderId</th>\n      <th>product</th>\n      <th>priceEach</th>\n      <th>orderDate</th>\n      <th>streetAddress</th>\n      <th>city</th>\n      <th>state</th>\n    </tr>\n  </thead>\n  <tbody>\n    <tr>\n      <th>0</th>\n      <td>182421</td>\n      <td>USB-C Charging Cable</td>\n      <td>11.99</td>\n      <td>2022-01-11 05:05:00</td>\n      <td>184 Washington St</td>\n      <td>Boston</td>\n      <td>MA</td>\n    </tr>\n    <tr>\n      <th>1</th>\n      <td>182423</td>\n      <td>34in Ultrawide Monitor</td>\n      <td>399.99</td>\n      <td>2022-01-29 13:12:00</td>\n      <td>16 10th St</td>\n      <td>Seattle</td>\n      <td>WA</td>\n    </tr>\n    <tr>\n      <th>2</th>\n      <td>182425</td>\n      <td>Lightning Charging Cable</td>\n      <td>14.99</td>\n      <td>2022-01-08 12:22:00</td>\n      <td>232 Highland St</td>\n      <td>Los Angeles</td>\n      <td>CA</td>\n    </tr>\n    <tr>\n      <th>3</th>\n      <td>182438</td>\n      <td>Lightning Charging Cable</td>\n      <td>14.99</td>\n      <td>2022-01-17 10:10:00</td>\n      <td>556 Spruce St</td>\n      <td>Los Angeles</td>\n      <td>CA</td>\n    </tr>\n    <tr>\n      <th>4</th>\n      <td>182441</td>\n      <td>34in Ultrawide Monitor</td>\n      <td>399.99</td>\n      <td>2022-01-09 22:45:00</td>\n      <td>576 Adams St</td>\n      <td>Atlanta</td>\n      <td>GA</td>\n    </tr>\n    <tr>\n      <th>...</th>\n      <td>...</td>\n      <td>...</td>\n      <td>...</td>\n      <td>...</td>\n      <td>...</td>\n      <td>...</td>\n      <td>...</td>\n    </tr>\n    <tr>\n      <th>14712</th>\n      <td>336452</td>\n      <td>iPhone</td>\n      <td>719.99</td>\n      <td>2022-12-17 22:04:00</td>\n      <td>77 6th St</td>\n      <td>Austin</td>\n      <td>TX</td>\n    </tr>\n    <tr>\n      <th>14713</th>\n      <td>336458</td>\n      <td>Wired Headphones</td>\n      <td>14.99</td>\n      <td>2022-12-21 13:01:00</td>\n      <td>801 Dogwood St</td>\n      <td>Los Angeles</td>\n      <td>CA</td>\n    </tr>\n    <tr>\n      <th>14714</th>\n      <td>336463</td>\n      <td>Bose SoundSport Headphones</td>\n      <td>99.99</td>\n      <td>2022-12-22 12:26:00</td>\n      <td>828 6th St</td>\n      <td>New York City</td>\n      <td>NY</td>\n    </tr>\n    <tr>\n      <th>14715</th>\n      <td>336464</td>\n      <td>USB-C Charging Cable</td>\n      <td>11.99</td>\n      <td>2022-12-11 19:11:00</td>\n      <td>87 West St</td>\n      <td>Los Angeles</td>\n      <td>CA</td>\n    </tr>\n    <tr>\n      <th>14716</th>\n      <td>336466</td>\n      <td>Lightning Charging Cable</td>\n      <td>14.99</td>\n      <td>2022-12-20 22:15:00</td>\n      <td>688 Adams St</td>\n      <td>Atlanta</td>\n      <td>GA</td>\n    </tr>\n  </tbody>\n</table>\n<p>14717 rows × 7 columns</p>\n</div>"
     },
     "execution_count": 173,
     "metadata": {},
     "output_type": "execute_result"
    }
   ],
   "source": [
    "cnx = sqlite3.connect(shop6_file)\n",
    "df_shop6 = pd.read_sql_query(\"SELECT * FROM sales\", cnx)\n",
    "df_shop6"
   ]
  },
  {
   "cell_type": "code",
   "execution_count": 174,
   "outputs": [
    {
     "name": "stdout",
     "output_type": "stream",
     "text": [
      "Index(['orderId', 'product', 'priceEach', 'orderDate', 'streetAddress', 'city',\n",
      "       'state'],\n",
      "      dtype='object')\n",
      "7\n"
     ]
    },
    {
     "data": {
      "text/plain": "(None, None)"
     },
     "execution_count": 174,
     "metadata": {},
     "output_type": "execute_result"
    }
   ],
   "source": [
    "columns6 = df_shop6.columns\n",
    "print(columns6), print(len(columns6))"
   ],
   "metadata": {
    "collapsed": false,
    "ExecuteTime": {
     "end_time": "2023-12-14T10:22:30.382782600Z",
     "start_time": "2023-12-14T10:22:30.317412800Z"
    }
   },
   "id": "69a7fdd64c602bb9"
  },
  {
   "cell_type": "markdown",
   "source": [
    "1. Rename columns "
   ],
   "metadata": {
    "collapsed": false
   },
   "id": "640c329e6c2f7e1e"
  },
  {
   "cell_type": "code",
   "execution_count": 175,
   "outputs": [],
   "source": [
    "df_shop6.rename(columns={\n",
    "    'orderId': 'Order ID',\n",
    "    'product': 'Product',\n",
    "    'priceEach': 'Price Each',\n",
    "    'orderDate': 'Order Date',\n",
    "    'streetAddress': 'Street Address',\n",
    "    'city': 'City',\n",
    "    'state': 'State'\n",
    "}, inplace=True)"
   ],
   "metadata": {
    "collapsed": false,
    "ExecuteTime": {
     "end_time": "2023-12-14T10:22:30.382782600Z",
     "start_time": "2023-12-14T10:22:30.326777700Z"
    }
   },
   "id": "a015bbe60fb9a2b7"
  },
  {
   "cell_type": "code",
   "execution_count": 176,
   "outputs": [
    {
     "data": {
      "text/plain": "Product\n20in Monitor                  1.0\n27in 4K Gaming Monitor        1.0\n27in FHD Monitor              1.0\n34in Ultrawide Monitor        1.0\nAA Batteries (4-pack)         2.0\nAAA Batteries (4-pack)        2.0\nApple Airpods Headphones      1.0\nBose SoundSport Headphones    1.0\nFlatscreen TV                 1.0\nGoogle Phone                  1.0\nLG Dryer                      1.0\nLG Washing Machine            1.0\nLightning Charging Cable      2.0\nMacbook Pro Laptop            1.0\nThinkPad Laptop               1.0\nUSB-C Charging Cable          2.0\nVareebadd Phone               1.0\nWired Headphones              2.0\niPhone                        1.0\nName: Quantity Ordered, dtype: object"
     },
     "execution_count": 176,
     "metadata": {},
     "output_type": "execute_result"
    }
   ],
   "source": [
    "combined_df = pd.concat([df_shop1, df_shop2, df_shop3, df_shop4, df_shop5])\n",
    "median_quantity = combined_df.groupby('Product')['Quantity Ordered'].median()\n",
    "median_quantity"
   ],
   "metadata": {
    "collapsed": false,
    "ExecuteTime": {
     "end_time": "2023-12-14T10:22:30.639108900Z",
     "start_time": "2023-12-14T10:22:30.330783400Z"
    }
   },
   "id": "f3e05f82290227e5"
  },
  {
   "cell_type": "code",
   "execution_count": 177,
   "outputs": [],
   "source": [
    "df_shop6['Quantity Ordered'] = df_shop6['Product'].map(median_quantity)"
   ],
   "metadata": {
    "collapsed": false,
    "ExecuteTime": {
     "end_time": "2023-12-14T10:22:30.644623Z",
     "start_time": "2023-12-14T10:22:30.634932800Z"
    }
   },
   "id": "26980d01af044b47"
  },
  {
   "cell_type": "code",
   "execution_count": 178,
   "outputs": [
    {
     "data": {
      "text/plain": "       Order ID                     Product  Price Each           Order Date  \\\n0        182421        USB-C Charging Cable       11.99  2022-01-11 05:05:00   \n1        182423      34in Ultrawide Monitor      399.99  2022-01-29 13:12:00   \n2        182425    Lightning Charging Cable       14.99  2022-01-08 12:22:00   \n3        182438    Lightning Charging Cable       14.99  2022-01-17 10:10:00   \n4        182441      34in Ultrawide Monitor      399.99  2022-01-09 22:45:00   \n...         ...                         ...         ...                  ...   \n14712    336452                      iPhone      719.99  2022-12-17 22:04:00   \n14713    336458            Wired Headphones       14.99  2022-12-21 13:01:00   \n14714    336463  Bose SoundSport Headphones       99.99  2022-12-22 12:26:00   \n14715    336464        USB-C Charging Cable       11.99  2022-12-11 19:11:00   \n14716    336466    Lightning Charging Cable       14.99  2022-12-20 22:15:00   \n\n          Street Address           City State Quantity Ordered  \n0      184 Washington St         Boston    MA              2.0  \n1             16 10th St        Seattle    WA              1.0  \n2        232 Highland St    Los Angeles    CA              2.0  \n3          556 Spruce St    Los Angeles    CA              2.0  \n4           576 Adams St        Atlanta    GA              1.0  \n...                  ...            ...   ...              ...  \n14712          77 6th St         Austin    TX              1.0  \n14713     801 Dogwood St    Los Angeles    CA              2.0  \n14714         828 6th St  New York City    NY              1.0  \n14715         87 West St    Los Angeles    CA              2.0  \n14716       688 Adams St        Atlanta    GA              2.0  \n\n[14717 rows x 8 columns]",
      "text/html": "<div>\n<style scoped>\n    .dataframe tbody tr th:only-of-type {\n        vertical-align: middle;\n    }\n\n    .dataframe tbody tr th {\n        vertical-align: top;\n    }\n\n    .dataframe thead th {\n        text-align: right;\n    }\n</style>\n<table border=\"1\" class=\"dataframe\">\n  <thead>\n    <tr style=\"text-align: right;\">\n      <th></th>\n      <th>Order ID</th>\n      <th>Product</th>\n      <th>Price Each</th>\n      <th>Order Date</th>\n      <th>Street Address</th>\n      <th>City</th>\n      <th>State</th>\n      <th>Quantity Ordered</th>\n    </tr>\n  </thead>\n  <tbody>\n    <tr>\n      <th>0</th>\n      <td>182421</td>\n      <td>USB-C Charging Cable</td>\n      <td>11.99</td>\n      <td>2022-01-11 05:05:00</td>\n      <td>184 Washington St</td>\n      <td>Boston</td>\n      <td>MA</td>\n      <td>2.0</td>\n    </tr>\n    <tr>\n      <th>1</th>\n      <td>182423</td>\n      <td>34in Ultrawide Monitor</td>\n      <td>399.99</td>\n      <td>2022-01-29 13:12:00</td>\n      <td>16 10th St</td>\n      <td>Seattle</td>\n      <td>WA</td>\n      <td>1.0</td>\n    </tr>\n    <tr>\n      <th>2</th>\n      <td>182425</td>\n      <td>Lightning Charging Cable</td>\n      <td>14.99</td>\n      <td>2022-01-08 12:22:00</td>\n      <td>232 Highland St</td>\n      <td>Los Angeles</td>\n      <td>CA</td>\n      <td>2.0</td>\n    </tr>\n    <tr>\n      <th>3</th>\n      <td>182438</td>\n      <td>Lightning Charging Cable</td>\n      <td>14.99</td>\n      <td>2022-01-17 10:10:00</td>\n      <td>556 Spruce St</td>\n      <td>Los Angeles</td>\n      <td>CA</td>\n      <td>2.0</td>\n    </tr>\n    <tr>\n      <th>4</th>\n      <td>182441</td>\n      <td>34in Ultrawide Monitor</td>\n      <td>399.99</td>\n      <td>2022-01-09 22:45:00</td>\n      <td>576 Adams St</td>\n      <td>Atlanta</td>\n      <td>GA</td>\n      <td>1.0</td>\n    </tr>\n    <tr>\n      <th>...</th>\n      <td>...</td>\n      <td>...</td>\n      <td>...</td>\n      <td>...</td>\n      <td>...</td>\n      <td>...</td>\n      <td>...</td>\n      <td>...</td>\n    </tr>\n    <tr>\n      <th>14712</th>\n      <td>336452</td>\n      <td>iPhone</td>\n      <td>719.99</td>\n      <td>2022-12-17 22:04:00</td>\n      <td>77 6th St</td>\n      <td>Austin</td>\n      <td>TX</td>\n      <td>1.0</td>\n    </tr>\n    <tr>\n      <th>14713</th>\n      <td>336458</td>\n      <td>Wired Headphones</td>\n      <td>14.99</td>\n      <td>2022-12-21 13:01:00</td>\n      <td>801 Dogwood St</td>\n      <td>Los Angeles</td>\n      <td>CA</td>\n      <td>2.0</td>\n    </tr>\n    <tr>\n      <th>14714</th>\n      <td>336463</td>\n      <td>Bose SoundSport Headphones</td>\n      <td>99.99</td>\n      <td>2022-12-22 12:26:00</td>\n      <td>828 6th St</td>\n      <td>New York City</td>\n      <td>NY</td>\n      <td>1.0</td>\n    </tr>\n    <tr>\n      <th>14715</th>\n      <td>336464</td>\n      <td>USB-C Charging Cable</td>\n      <td>11.99</td>\n      <td>2022-12-11 19:11:00</td>\n      <td>87 West St</td>\n      <td>Los Angeles</td>\n      <td>CA</td>\n      <td>2.0</td>\n    </tr>\n    <tr>\n      <th>14716</th>\n      <td>336466</td>\n      <td>Lightning Charging Cable</td>\n      <td>14.99</td>\n      <td>2022-12-20 22:15:00</td>\n      <td>688 Adams St</td>\n      <td>Atlanta</td>\n      <td>GA</td>\n      <td>2.0</td>\n    </tr>\n  </tbody>\n</table>\n<p>14717 rows × 8 columns</p>\n</div>"
     },
     "execution_count": 178,
     "metadata": {},
     "output_type": "execute_result"
    }
   ],
   "source": [
    "df_shop6"
   ],
   "metadata": {
    "collapsed": false,
    "ExecuteTime": {
     "end_time": "2023-12-14T10:22:30.654265Z",
     "start_time": "2023-12-14T10:22:30.642628500Z"
    }
   },
   "id": "4ea21dfeee90fc54"
  },
  {
   "cell_type": "markdown",
   "id": "047b91e9",
   "metadata": {
    "pycharm": {
     "name": "#%% md\n"
    }
   },
   "source": [
    "### Data Analysis"
   ]
  },
  {
   "cell_type": "markdown",
   "id": "5bd825a6",
   "metadata": {
    "pycharm": {
     "name": "#%% md\n"
    }
   },
   "source": [
    "#### 2.2.1 Sales vs Shop"
   ]
  },
  {
   "cell_type": "code",
   "execution_count": 179,
   "outputs": [],
   "source": [
    "total_sales_shop1 = (df_shop1['Price Each'] * df_shop1['Quantity Ordered']).sum()\n",
    "total_sales_shop2 = (df_shop2['Price Each'] * df_shop2['Quantity Ordered']).sum()\n",
    "total_sales_shop3 = (df_shop3['Price Each'] * df_shop3['Quantity Ordered']).sum()\n",
    "total_sales_shop4 = (df_shop4['Price Each'] * df_shop4['Quantity Ordered']).sum()\n",
    "total_sales_shop5 = (df_shop5['Price Each'] * df_shop5['Quantity Ordered']).sum()\n",
    "total_sales_shop6 = (df_shop6['Price Each'] * df_shop6['Quantity Ordered']).sum()"
   ],
   "metadata": {
    "collapsed": false,
    "ExecuteTime": {
     "end_time": "2023-12-14T10:22:30.664041900Z",
     "start_time": "2023-12-14T10:22:30.653265700Z"
    }
   },
   "id": "ce70ac5edc877338"
  },
  {
   "cell_type": "code",
   "execution_count": 180,
   "id": "d7579159",
   "metadata": {
    "pycharm": {
     "name": "#%%\n"
    },
    "ExecuteTime": {
     "end_time": "2023-12-14T10:22:30.866033700Z",
     "start_time": "2023-12-14T10:22:30.680009Z"
    }
   },
   "outputs": [
    {
     "data": {
      "text/plain": "<Figure size 640x480 with 1 Axes>",
      "image/png": "[encoded data removed]"
     },
     "metadata": {},
     "output_type": "display_data"
    }
   ],
   "source": [
    "shops = ['Shop 1', 'Shop 2', 'Shop 3', 'Shop 4', 'Shop 5', 'Shop 6']\n",
    "sales = [total_sales_shop1, total_sales_shop2, total_sales_shop3, total_sales_shop4, total_sales_shop5, total_sales_shop6]\n",
    "\n",
    "_, ax = plt.subplots()\n",
    "ax.bar(range(len(shops)), sales)\n",
    "ax.set_xticks(range(len(shops)))\n",
    "ax.set_xticklabels(shops, rotation=\"vertical\")\n",
    "ax.ticklabel_format(style='plain', axis='y')\n",
    "ax.set(title='Sales vs Shop', ylabel='Sales ($)', xlabel='Shop')\n",
    "plt.savefig('graphs/salesVsshop.png')\n",
    "plt.show()"
   ]
  },
  {
   "cell_type": "code",
   "execution_count": 181,
   "outputs": [
    {
     "data": {
      "text/plain": "7534453.559999999"
     },
     "execution_count": 181,
     "metadata": {},
     "output_type": "execute_result"
    }
   ],
   "source": [
    "total_sales_shop5"
   ],
   "metadata": {
    "collapsed": false,
    "ExecuteTime": {
     "end_time": "2023-12-14T10:22:30.873728500Z",
     "start_time": "2023-12-14T10:22:30.866033700Z"
    }
   },
   "id": "3505a0a8e84246a8"
  },
  {
   "cell_type": "markdown",
   "source": [
    "**Questions** : Quel magasin possède le prix total des ventes le plus élevé ? Quel est ce prix total ?\n",
    "\n",
    "Dans notre cas, le magasin qui possède le plus de ventes est le shop 5 qui a fait un CA total de 7'534'453 de dollars."
   ],
   "metadata": {
    "collapsed": false
   },
   "id": "8d333443dc867962"
  },
  {
   "cell_type": "markdown",
   "id": "7abb1f31",
   "metadata": {
    "pycharm": {
     "name": "#%% md\n"
    }
   },
   "source": [
    "#### 2.2.2 Sales vs Month"
   ]
  },
  {
   "cell_type": "code",
   "execution_count": 182,
   "outputs": [],
   "source": [
    "french_months = ['Janvier', 'Février', 'Mars', 'Avril', 'Mai', 'Juin',\n",
    "                 'Juillet', 'Août', 'Septembre', 'Octobre', 'Novembre', 'Décembre']"
   ],
   "metadata": {
    "collapsed": false,
    "ExecuteTime": {
     "end_time": "2023-12-14T10:22:30.877069Z",
     "start_time": "2023-12-14T10:22:30.874551900Z"
    }
   },
   "id": "7639f1e0bfc87e28"
  },
  {
   "cell_type": "code",
   "execution_count": 183,
   "id": "ac7bb587",
   "metadata": {
    "pycharm": {
     "name": "#%%\n"
    },
    "ExecuteTime": {
     "end_time": "2023-12-14T10:22:31.763038900Z",
     "start_time": "2023-12-14T10:22:30.880067400Z"
    }
   },
   "outputs": [
    {
     "data": {
      "text/plain": "<Figure size 640x480 with 1 Axes>",
      "image/png": "[encoded data removed]"
     },
     "metadata": {},
     "output_type": "display_data"
    }
   ],
   "source": [
    "all_shops_data = pd.concat([df_shop1, df_shop2, df_shop3, df_shop4, df_shop5, df_shop6]) # concat tous les shops\n",
    "all_shops_data['Order Date'] = pd.to_datetime(all_shops_data['Order Date']) # juste pour être sur que toutes les dates ont le meme formats\n",
    "all_shops_data['Month'] = all_shops_data['Order Date'].dt.month # récuperer juste les mois --> https://stackoverflow.com/questions/25146121/extracting-just-month-and-year-separately-from-pandas-datetime-column \n",
    "\n",
    "## Faire le nécessaire afin d'avoir le résultat\n",
    "all_shops_data['Total Sales'] = all_shops_data['Price Each'] * all_shops_data['Quantity Ordered'] \n",
    "monthly_sales = all_shops_data.groupby('Month')['Total Sales'].sum()\n",
    "\n",
    "# transformer les valeurs a des lists (problème si je le fais pas)\n",
    "months = monthly_sales.index.tolist()\n",
    "sales = monthly_sales.values.tolist()\n",
    "\n",
    "month_labels = [french_months[month - 1] for month in months] # récupérer les vrais noms des mois et pas leur numéros\n",
    "\n",
    "# plot graph\n",
    "_, ax = plt.subplots()\n",
    "ax.bar(month_labels, sales)\n",
    "ax.set_xticks(month_labels)\n",
    "ax.set_xticklabels(month_labels, rotation=\"vertical\")\n",
    "ax.ticklabel_format(style='plain', axis='y')\n",
    "ax.set(title='Sales vs Month', ylabel='Ventes totales ($)', xlabel='Mois')\n",
    "\n",
    "plt.savefig('graphs/salesVsmonth.png')\n",
    "plt.show()"
   ]
  },
  {
   "cell_type": "code",
   "execution_count": 184,
   "outputs": [
    {
     "data": {
      "text/plain": "3979721.160000612"
     },
     "execution_count": 184,
     "metadata": {},
     "output_type": "execute_result"
    }
   ],
   "source": [
    "np.max(monthly_sales)"
   ],
   "metadata": {
    "collapsed": false,
    "ExecuteTime": {
     "end_time": "2023-12-14T10:22:31.771684900Z",
     "start_time": "2023-12-14T10:22:31.765038700Z"
    }
   },
   "id": "d78e3af3108d51c0"
  },
  {
   "cell_type": "markdown",
   "source": [
    "**Questions** : Quel mois possède le prix total des ventes le plus élevé ? Quel est ce prix total ?\n",
    "\n",
    "Le mois qui a fait le plus de ventes est décembre (logique) avec un total de 3'979'721.16 de dollars\n",
    "\n"
   ],
   "metadata": {
    "collapsed": false
   },
   "id": "1d12c4bdd55db8da"
  },
  {
   "cell_type": "markdown",
   "id": "5d2dce38",
   "metadata": {
    "pycharm": {
     "name": "#%% md\n"
    }
   },
   "source": [
    "#### 2.2.3 Sales vs City"
   ]
  },
  {
   "cell_type": "code",
   "execution_count": 185,
   "id": "ac12433d",
   "metadata": {
    "pycharm": {
     "name": "#%%\n"
    },
    "ExecuteTime": {
     "end_time": "2023-12-14T10:22:32.245037700Z",
     "start_time": "2023-12-14T10:22:31.771684900Z"
    }
   },
   "outputs": [
    {
     "data": {
      "text/plain": "<Figure size 640x480 with 1 Axes>",
      "image/png": "[encoded data removed]"
     },
     "metadata": {},
     "output_type": "display_data"
    }
   ],
   "source": [
    "all_shops_data = pd.concat([df_shop1, df_shop2, df_shop3, df_shop4, df_shop5, df_shop6])\n",
    "all_shops_data['City-State'] = all_shops_data['City'] + ' (' + all_shops_data['State'] + ')' \n",
    "all_shops_data['Total Sales'] = all_shops_data['Price Each'] * all_shops_data['Quantity Ordered']\n",
    "city_state_sales = all_shops_data.groupby('City-State')['Total Sales'].sum()\n",
    "\n",
    "\n",
    "cities = city_state_sales.index.tolist()\n",
    "sales = city_state_sales.values.tolist()\n",
    "\n",
    "_, ax = plt.subplots()\n",
    "ax.bar(cities, sales)\n",
    "ax.set_xticks(cities)\n",
    "ax.set_xticklabels(cities, rotation=\"vertical\")\n",
    "ax.ticklabel_format(style='plain', axis='y')\n",
    "ax.set(title='Total Sales by City', ylabel='Total Sales ($)', xlabel='City')\n",
    "\n",
    "plt.savefig('graphs/salesVscity.png')\n",
    "\n",
    "plt.show()"
   ]
  },
  {
   "cell_type": "code",
   "execution_count": 186,
   "outputs": [
    {
     "data": {
      "text/plain": "6027777.850003289"
     },
     "execution_count": 186,
     "metadata": {},
     "output_type": "execute_result"
    }
   ],
   "source": [
    "np.max(city_state_sales)"
   ],
   "metadata": {
    "collapsed": false,
    "ExecuteTime": {
     "end_time": "2023-12-14T10:22:32.251956100Z",
     "start_time": "2023-12-14T10:22:32.246037400Z"
    }
   },
   "id": "a0e882598c8faa4b"
  },
  {
   "cell_type": "markdown",
   "source": [
    "**Question** : Quelle ville possède le prix total des ventes le plus élevé ? Quel est ce prix total ?\n",
    "\n",
    "La ville qui a fait le plus de ventes est Seattle (WA). Cette ville a fait un total de 6'027'777 de dollars de ventes. \n",
    "\n",
    "\n",
    "\n"
   ],
   "metadata": {
    "collapsed": false
   },
   "id": "1e0503dfa47043ed"
  },
  {
   "cell_type": "markdown",
   "id": "e8ede336",
   "metadata": {
    "pycharm": {
     "name": "#%% md\n"
    }
   },
   "source": [
    "#### 2.2.4 Number of Orders vs Hour"
   ]
  },
  {
   "cell_type": "code",
   "execution_count": 187,
   "id": "c66c537a",
   "metadata": {
    "pycharm": {
     "name": "#%%\n"
    },
    "ExecuteTime": {
     "end_time": "2023-12-14T10:22:32.885624200Z",
     "start_time": "2023-12-14T10:22:32.255960900Z"
    }
   },
   "outputs": [
    {
     "data": {
      "text/plain": "<Figure size 640x480 with 1 Axes>",
      "image/png": "[encoded data removed]"
     },
     "metadata": {},
     "output_type": "display_data"
    }
   ],
   "source": [
    "all_shops_data = pd.concat([df_shop1, df_shop2, df_shop3, df_shop4, df_shop5, df_shop6])\n",
    "all_shops_data['Order Date'] = pd.to_datetime(all_shops_data['Order Date'])\n",
    "all_shops_data['Hour'] = all_shops_data['Order Date'].dt.hour\n",
    "hour_orders = all_shops_data.groupby('Hour').size()\n",
    "\n",
    "\n",
    "hours = hour_orders.index.tolist()\n",
    "order_counts = hour_orders.values.tolist()\n",
    "\n",
    "_, ax = plt.subplots()\n",
    "ax.plot(hours, order_counts) \n",
    "ax.set_xticks(hours)\n",
    "ax.set_xticklabels([f'{hour}h' for hour in hours], rotation=\"vertical\")\n",
    "ax.ticklabel_format(style='plain', axis='y')\n",
    "ax.set(title='Number of orders vs Hour', ylabel='Nombre de commandes', xlabel='Heure')\n",
    "\n",
    "plt.savefig('graphs/orders_by_hour.png')\n",
    "\n",
    "plt.show()"
   ]
  },
  {
   "cell_type": "markdown",
   "source": [
    "**Questions** : Quelle sont les 3 heures ayant le nombre de commandes effectuées le plus élevé ? Pour chacune de ces 3 heures, quel est le nombre de commandes effectuées ?"
   ],
   "metadata": {
    "collapsed": false
   },
   "id": "6a8cee7f4e037c33"
  },
  {
   "cell_type": "code",
   "execution_count": 188,
   "outputs": [
    {
     "data": {
      "text/plain": "Hour\n19    10821\n20    10780\n12    10763\ndtype: int64"
     },
     "execution_count": 188,
     "metadata": {},
     "output_type": "execute_result"
    }
   ],
   "source": [
    "top_hours = hour_orders.sort_values(ascending=False).head(3)\n",
    "top_hours"
   ],
   "metadata": {
    "collapsed": false,
    "ExecuteTime": {
     "end_time": "2023-12-14T10:22:32.894370500Z",
     "start_time": "2023-12-14T10:22:32.887625600Z"
    }
   },
   "id": "d23f34c28f91c49a"
  },
  {
   "cell_type": "markdown",
   "source": [
    "Comme on peut le voir dans le dataframe ci-dessous les heures ayant le plus de ventes sont l'heure 19, l'heure 20 suivi de très prêt par l'heure 12. \n",
    "\n",
    "**19** : 10821\n",
    "**20** : 10780\n",
    "**12** : 10763 "
   ],
   "metadata": {
    "collapsed": false
   },
   "id": "b9dee21149725541"
  },
  {
   "cell_type": "markdown",
   "id": "0f088c60",
   "metadata": {
    "pycharm": {
     "name": "#%% md\n"
    }
   },
   "source": [
    "#### 2.2.5 Products sold together"
   ]
  },
  {
   "cell_type": "code",
   "execution_count": 189,
   "id": "92737968",
   "metadata": {
    "pycharm": {
     "name": "#%%\n"
    },
    "ExecuteTime": {
     "end_time": "2023-12-14T10:22:33.437125800Z",
     "start_time": "2023-12-14T10:22:32.893369700Z"
    }
   },
   "outputs": [
    {
     "name": "stdout",
     "output_type": "stream",
     "text": [
      "('Google Phone', 'USB-C Charging Cable') : 927\n",
      "('Lightning Charging Cable', 'iPhone') : 914\n",
      "('Wired Headphones', 'iPhone') : 415\n",
      "('Google Phone', 'Wired Headphones') : 355\n",
      "('Apple Airpods Headphones', 'iPhone') : 351\n",
      "('USB-C Charging Cable', 'Vareebadd Phone') : 298\n",
      "('Bose SoundSport Headphones', 'Google Phone') : 202\n",
      "('USB-C Charging Cable', 'Wired Headphones') : 154\n",
      "('Lightning Charging Cable', 'Wired Headphones') : 135\n",
      "('Vareebadd Phone', 'Wired Headphones') : 124\n"
     ]
    }
   ],
   "source": [
    "# Get orders with multiple items\n",
    "all_shops_data = pd.concat([df_shop1, df_shop2, df_shop3, df_shop4, df_shop5, df_shop6])\n",
    "orders_with_multiple_items = all_shops_data[all_shops_data['Order ID'].duplicated(keep=False)] # gets only the orders with multiple items\n",
    "\n",
    "# group products in the same orders\n",
    "grouped_orders = {}\n",
    "for order_id, group in orders_with_multiple_items.groupby('Order ID'):\n",
    "    products = group['Product'].tolist()\n",
    "    grouped_orders[order_id] = products\n",
    "\n",
    "# get top 10\n",
    "pair_counts = {}\n",
    "for products in grouped_orders.values():\n",
    "    products.sort()\n",
    "    for i in range(len(products)):\n",
    "        for j in range(i + 1, len(products)):\n",
    "            pair = (products[i], products[j])\n",
    "            if pair not in pair_counts:\n",
    "                pair_counts[pair] = 0\n",
    "            pair_counts[pair] += 1\n",
    "            \n",
    "top_10_pairs = sorted(pair_counts.items(), key=lambda x: x[1], reverse=True)[:10]\n",
    "\n",
    "with open('graphs/top_10_pairs.txt', 'w') as file:\n",
    "    for pair, count in top_10_pairs:\n",
    "        file.write(f\"{pair} : {count}\\n\")\n",
    "\n",
    "for pair, count in top_10_pairs:\n",
    "    print(f\"{pair} : {count}\")"
   ]
  },
  {
   "cell_type": "code",
   "execution_count": 190,
   "outputs": [],
   "source": [
    "with open('README.md', 'w', encoding='utf-8') as readme_file:\n",
    "    # Write the header\n",
    "    readme_file.write(\"# Graph Analysis Summary\\n\\n\")\n",
    "\n",
    "    # Information for salesVsshop.png\n",
    "    readme_file.write(\"## Graph: Total Sales by Shop (salesVsshop.png)\\n\")\n",
    "    readme_file.write(\"![Total Sales by Shop](graphs/salesVsshop.png)\\n\")\n",
    "    readme_file.write(\"### Question\\n\")\n",
    "    readme_file.write(\"- Quel magasin possède le prix total des ventes le plus élevé ? Quel est ce prix total ?\\n\")\n",
    "    readme_file.write(\"### Réponse\\n\")\n",
    "    readme_file.write(\"- Le magasin avec le plus de ventes est le Shop 5 avec un CA total de 7’534’453 dollars.\\n\\n\")\n",
    "\n",
    "    # Information for salesVsmonth.png\n",
    "    readme_file.write(\"## Graph: Total Sales by Month (salesVsmonth.png)\\n\")\n",
    "    readme_file.write(\"![Total Sales by Month](graphs/salesVsmonth.png)\\n\")\n",
    "    readme_file.write(\"### Question\\n\")\n",
    "    readme_file.write(\"- Quel mois possède le prix total des ventes le plus élevé ? Quel est ce prix total ?\\n\")\n",
    "    readme_file.write(\"### Réponse\\n\")\n",
    "    readme_file.write(\"- Le mois qui a fait le plus de ventes est décembre avec un total de 3’979’721.16 dollars.\\n\\n\")\n",
    "    \n",
    "    # Information for salesVscity.png\n",
    "    readme_file.write(\"## Graph: Total Sales by City (salesVscity.png)\\n\")\n",
    "    readme_file.write(\"![Total Sales by City](graphs/salesVscity.png)\\n\")\n",
    "    readme_file.write(\"### Question\\n\")\n",
    "    readme_file.write(\"- Quelle ville possède le prix total des ventes le plus élevé ? Quel est ce prix total ?\\n\")\n",
    "    readme_file.write(\"### Réponse\\n\")\n",
    "    readme_file.write(\"- La ville qui a fait le plus de ventes est Seattle (WA) avec un total de 6’027’777 dollars.\\n\\n\")\n",
    "    \n",
    "    # Information for orders_by_hour.png\n",
    "    readme_file.write(\"## Graph: Number of Orders vs Hour (orders_by_hour.png)\\n\")\n",
    "    readme_file.write(\"![Number of Orders vs Hour](graphs/orders_by_hour.png)\\n\")\n",
    "    readme_file.write(\"### Questions\\n\")\n",
    "    readme_file.write(\"- Quelle sont les 3 heures ayant le nombre de commandes effectuées le plus élevé ? Pour chacune de ces 3 heures, quel est le nombre de commandes effectuées ?\\n\")\n",
    "    readme_file.write(\"### Réponses\\n\")\n",
    "    readme_file.write(\"- Les heures avec le plus de ventes sont 19h (10821 commandes), 20h (10780 commandes), et 12h (10763 commandes).\\n\\n\")\n",
    "\n",
    "    # Information for top_10_pairs.txt\n",
    "    readme_file.write(\"## Top 10 Product Pairs Sold Together\\n\")\n",
    "    readme_file.write(\"### List\\n\")\n",
    "    with open('graphs/top_10_pairs.txt', 'r', encoding='utf-8') as file:\n",
    "        for line in file:\n",
    "            readme_file.write(f\"- {line}\")"
   ],
   "metadata": {
    "collapsed": false,
    "ExecuteTime": {
     "end_time": "2023-12-14T10:29:26.455985100Z",
     "start_time": "2023-12-14T10:29:26.435810Z"
    }
   },
   "id": "3c1f8ba8f61da9db"
  }
 ],
 "metadata": {
  "kernelspec": {
   "display_name": "venv",
   "language": "python",
   "name": "python3"
  },
  "language_info": {
   "codemirror_mode": {
    "name": "ipython",
    "version": 3
   },
   "file_extension": ".py",
   "mimetype": "text/x-python",
   "name": "python",
   "nbconvert_exporter": "python",
   "pygments_lexer": "ipython3",
   "version": "3.11.2"
  }
 },
 "nbformat": 4,
 "nbformat_minor": 5
}
