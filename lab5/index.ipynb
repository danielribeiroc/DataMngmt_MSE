{
 "cells": [
  {
   "cell_type": "markdown",
   "id": "712d787b",
   "metadata": {
    "pycharm": {
     "name": "#%% md\n"
    }
   },
   "source": [
    "### Imports"
   ]
  },
  {
   "cell_type": "code",
   "execution_count": 21,
   "id": "484a38ec",
   "metadata": {
    "pycharm": {
     "name": "#%%\n"
    },
    "ExecuteTime": {
     "end_time": "2023-12-14T08:31:54.807876400Z",
     "start_time": "2023-12-14T08:31:54.734804300Z"
    }
   },
   "outputs": [],
   "source": [
    "import pandas as pd\n",
    "import sqlite3\n",
    "import matplotlib.pyplot as plt\n",
    "import math"
   ]
  },
  {
   "cell_type": "markdown",
   "id": "2b2679a4",
   "metadata": {
    "pycharm": {
     "name": "#%% md\n"
    }
   },
   "source": [
    "### Constants"
   ]
  },
  {
   "cell_type": "code",
   "execution_count": 22,
   "id": "f72014b1",
   "metadata": {
    "pycharm": {
     "name": "#%%\n"
    },
    "ExecuteTime": {
     "end_time": "2023-12-14T08:31:54.808876600Z",
     "start_time": "2023-12-14T08:31:54.741308300Z"
    }
   },
   "outputs": [],
   "source": [
    "# DataFrame columns\n",
    "column_names = ['Order ID', 'Product', 'Quantity Ordered', 'Price Each', 'Order Date', 'Street Address', 'City', 'State']\n",
    "\n",
    "# Files\n",
    "data_folder = \"data/\"\n",
    "shop1_file = data_folder + 'Shop1.csv'\n",
    "shop2_file = data_folder + 'Shop2.xlsx'\n",
    "shop3_file = data_folder + 'Shop3.json'\n",
    "shop4_file = data_folder + 'Shop4.xml'\n",
    "shop5_file = data_folder + 'Shop5.parquet'\n",
    "shop6_file = data_folder + 'Shop6.db'"
   ]
  },
  {
   "cell_type": "markdown",
   "id": "fe08e130",
   "metadata": {
    "pycharm": {
     "name": "#%% md\n"
    }
   },
   "source": [
    "### Pre processing"
   ]
  },
  {
   "cell_type": "markdown",
   "id": "6bc0862f",
   "metadata": {
    "pycharm": {
     "name": "#%% md\n"
    }
   },
   "source": [
    "#### 2.1.1 Shop 1 (CSV)"
   ]
  },
  {
   "cell_type": "code",
   "execution_count": 23,
   "id": "8caa2652",
   "metadata": {
    "pycharm": {
     "name": "#%%\n"
    },
    "ExecuteTime": {
     "end_time": "2023-12-14T08:31:54.932018200Z",
     "start_time": "2023-12-14T08:31:54.748824700Z"
    }
   },
   "outputs": [],
   "source": [
    "df_shop1 = pd.read_csv(shop1_file)\n",
    "#display(df_shop1)"
   ]
  },
  {
   "cell_type": "code",
   "execution_count": 24,
   "outputs": [
    {
     "name": "stdout",
     "output_type": "stream",
     "text": [
      "Index(['Order ID', 'Product', 'Quantity Ordered', 'Price Each', 'Order Date',\n",
      "       'Street Address', 'City', 'State'],\n",
      "      dtype='object')\n",
      "8\n"
     ]
    },
    {
     "data": {
      "text/plain": "(None, None)"
     },
     "execution_count": 24,
     "metadata": {},
     "output_type": "execute_result"
    }
   ],
   "source": [
    "columns = df_shop1.columns\n",
    "print(columns), print(len(columns))"
   ],
   "metadata": {
    "collapsed": false,
    "ExecuteTime": {
     "end_time": "2023-12-14T08:31:54.934018600Z",
     "start_time": "2023-12-14T08:31:54.792678300Z"
    }
   },
   "id": "7cf3821569e74847"
  },
  {
   "cell_type": "markdown",
   "id": "4c8cca3e",
   "metadata": {
    "pycharm": {
     "name": "#%% md\n"
    }
   },
   "source": [
    "#### 2.1.2 Shop 2 (Excel)"
   ]
  },
  {
   "cell_type": "code",
   "execution_count": null,
   "id": "7de5dbaa",
   "metadata": {
    "pycharm": {
     "name": "#%%\n"
    },
    "is_executing": true,
    "ExecuteTime": {
     "start_time": "2023-12-14T08:31:54.799878Z"
    }
   },
   "outputs": [],
   "source": [
    "df_shop2 = pd.read_excel(shop2_file)\n",
    "#display(df_shop2)"
   ]
  },
  {
   "cell_type": "code",
   "execution_count": null,
   "outputs": [],
   "source": [
    "columns2 = df_shop2.columns\n",
    "print(columns2), print(len(columns2))"
   ],
   "metadata": {
    "collapsed": false,
    "is_executing": true
   },
   "id": "3156c43f98e221b1"
  },
  {
   "cell_type": "markdown",
   "id": "eda65f9d",
   "metadata": {
    "pycharm": {
     "name": "#%% md\n"
    }
   },
   "source": [
    "#### 2.1.3 Shop 3 (JSON)"
   ]
  },
  {
   "cell_type": "code",
   "execution_count": null,
   "id": "82f5eac7",
   "metadata": {
    "pycharm": {
     "name": "#%%\n"
    },
    "is_executing": true
   },
   "outputs": [],
   "source": [
    "df_shop3 = pd.read_json(shop3_file, orient='split')\n",
    "#display(df_shop3)"
   ]
  },
  {
   "cell_type": "code",
   "execution_count": null,
   "outputs": [],
   "source": [
    "columns3 = df_shop3.columns\n",
    "print(columns3), print(len(columns3))"
   ],
   "metadata": {
    "collapsed": false,
    "is_executing": true
   },
   "id": "4f0e28ca414faf6"
  },
  {
   "cell_type": "markdown",
   "id": "e6efae5c",
   "metadata": {
    "pycharm": {
     "name": "#%% md\n"
    }
   },
   "source": [
    "#### 2.1.4 Shop 4 (XML)"
   ]
  },
  {
   "cell_type": "code",
   "execution_count": null,
   "id": "c2be1b85",
   "metadata": {
    "pycharm": {
     "name": "#%%\n"
    },
    "is_executing": true
   },
   "outputs": [],
   "source": [
    "df_shop4 = pd.read_xml(shop4_file)\n",
    "#display(df_shop4)"
   ]
  },
  {
   "cell_type": "code",
   "execution_count": null,
   "outputs": [],
   "source": [
    "columns4 = df_shop4.columns\n",
    "print(columns4), print(len(columns4))"
   ],
   "metadata": {
    "collapsed": false,
    "is_executing": true
   },
   "id": "f024ffbb9398d21e"
  },
  {
   "cell_type": "markdown",
   "id": "45382a95",
   "metadata": {
    "pycharm": {
     "name": "#%% md\n"
    }
   },
   "source": [
    "#### 2.1.5 Shop 5 (Parquet)"
   ]
  },
  {
   "cell_type": "code",
   "execution_count": null,
   "id": "aba3d921",
   "metadata": {
    "pycharm": {
     "name": "#%%\n"
    },
    "is_executing": true
   },
   "outputs": [],
   "source": [
    "df_shop5 = pd.read_parquet(shop5_file)\n",
    "#display(df_shop5)"
   ]
  },
  {
   "cell_type": "code",
   "execution_count": null,
   "outputs": [],
   "source": [
    "columns5 = df_shop5.columns\n",
    "print(columns5), print(len(columns5))"
   ],
   "metadata": {
    "collapsed": false,
    "is_executing": true
   },
   "id": "e519fc912333bfd3"
  },
  {
   "cell_type": "markdown",
   "id": "638e6044",
   "metadata": {
    "pycharm": {
     "name": "#%% md\n"
    }
   },
   "source": [
    "#### 2.1.6 Shop 6 (SQLite)"
   ]
  },
  {
   "cell_type": "code",
   "execution_count": null,
   "id": "ca286f9c",
   "metadata": {
    "pycharm": {
     "name": "#%%\n"
    },
    "is_executing": true
   },
   "outputs": [],
   "source": [
    "cnx = sqlite3.connect(shop6_file)\n",
    "df_shop6 = pd.read_sql_query(\"SELECT * FROM sales\", cnx)\n",
    "#display(df_shop6)"
   ]
  },
  {
   "cell_type": "code",
   "execution_count": null,
   "outputs": [],
   "source": [
    "columns6 = df_shop6.columns\n",
    "print(columns6), print(len(columns6))"
   ],
   "metadata": {
    "collapsed": false,
    "is_executing": true
   },
   "id": "69a7fdd64c602bb9"
  },
  {
   "cell_type": "markdown",
   "id": "047b91e9",
   "metadata": {
    "pycharm": {
     "name": "#%% md\n"
    }
   },
   "source": [
    "### Data Analysis"
   ]
  },
  {
   "cell_type": "markdown",
   "id": "5bd825a6",
   "metadata": {
    "pycharm": {
     "name": "#%% md\n"
    }
   },
   "source": [
    "#### 2.2.1 Sales vs Shop"
   ]
  },
  {
   "cell_type": "code",
   "execution_count": null,
   "id": "d7579159",
   "metadata": {
    "pycharm": {
     "name": "#%%\n"
    },
    "is_executing": true
   },
   "outputs": [],
   "source": [
    "shops = ['Shop 1', 'Shop 2', 'Shop 3', 'Shop 4', 'Shop 5', 'Shop 6']\n",
    "sales = [200, 150, 100, 170, 220, 50]\n",
    "\n",
    "_, ax = plt.subplots()\n",
    "ax.bar(range(len(shops)), sales)\n",
    "ax.set_xticks(range(len(shops)))\n",
    "ax.set_xticklabels(shops, rotation=\"vertical\")\n",
    "ax.ticklabel_format(style='plain', axis='y')\n",
    "ax.set(title='Sales vs Shop', ylabel='Sales ($)', xlabel='Shop')\n",
    "plt.show()"
   ]
  },
  {
   "cell_type": "markdown",
   "id": "7abb1f31",
   "metadata": {
    "pycharm": {
     "name": "#%% md\n"
    }
   },
   "source": [
    "#### 2.2.2 Sales vs Month"
   ]
  },
  {
   "cell_type": "code",
   "execution_count": null,
   "id": "ac7bb587",
   "metadata": {
    "pycharm": {
     "name": "#%%\n"
    },
    "is_executing": true
   },
   "outputs": [],
   "source": []
  },
  {
   "cell_type": "markdown",
   "id": "5d2dce38",
   "metadata": {
    "pycharm": {
     "name": "#%% md\n"
    }
   },
   "source": [
    "#### 2.2.3 Sales vs City"
   ]
  },
  {
   "cell_type": "code",
   "execution_count": null,
   "id": "ac12433d",
   "metadata": {
    "pycharm": {
     "name": "#%%\n"
    },
    "is_executing": true
   },
   "outputs": [],
   "source": []
  },
  {
   "cell_type": "markdown",
   "id": "e8ede336",
   "metadata": {
    "pycharm": {
     "name": "#%% md\n"
    }
   },
   "source": [
    "#### 2.2.4 Number of Orders vs Hour"
   ]
  },
  {
   "cell_type": "code",
   "execution_count": null,
   "id": "c66c537a",
   "metadata": {
    "pycharm": {
     "name": "#%%\n"
    },
    "is_executing": true
   },
   "outputs": [],
   "source": []
  },
  {
   "cell_type": "markdown",
   "id": "0f088c60",
   "metadata": {
    "pycharm": {
     "name": "#%% md\n"
    }
   },
   "source": [
    "#### 2.2.5 Products sold together"
   ]
  },
  {
   "cell_type": "code",
   "execution_count": null,
   "id": "92737968",
   "metadata": {
    "pycharm": {
     "name": "#%%\n"
    },
    "is_executing": true
   },
   "outputs": [],
   "source": []
  }
 ],
 "metadata": {
  "kernelspec": {
   "display_name": "venv",
   "language": "python",
   "name": "python3"
  },
  "language_info": {
   "codemirror_mode": {
    "name": "ipython",
    "version": 3
   },
   "file_extension": ".py",
   "mimetype": "text/x-python",
   "name": "python",
   "nbconvert_exporter": "python",
   "pygments_lexer": "ipython3",
   "version": "3.11.2"
  }
 },
 "nbformat": 4,
 "nbformat_minor": 5
}
